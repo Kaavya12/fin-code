{
  "cells": [
    {
      "cell_type": "markdown",
      "metadata": {
        "id": "n4jhjyAoj_Gj"
      },
      "source": [
        "# Models/LSTM Preprocess - In Progress"
      ]
    },
    {
      "cell_type": "code",
      "execution_count": 1,
      "metadata": {
        "id": "5aKtyMPKzwdf"
      },
      "outputs": [],
      "source": [
        "import pandas as pd"
      ]
    },
    {
      "cell_type": "code",
      "execution_count": 2,
      "metadata": {
        "id": "cHhjAyou-zS6"
      },
      "outputs": [],
      "source": [
        "sentiment = pd.read_csv(\"/content/sentiment.csv\", index_col=[0,1])"
      ]
    },
    {
      "cell_type": "code",
      "execution_count": 3,
      "metadata": {
        "id": "uoKQ1u4kkr0x"
      },
      "outputs": [],
      "source": [
        "fin_data = pd.read_csv(\"/content/processed_fin_data.csv\", index_col=[0,1])"
      ]
    },
    {
      "cell_type": "code",
      "execution_count": 4,
      "metadata": {
        "colab": {
          "base_uri": "https://localhost:8080/",
          "height": 455
        },
        "id": "-TsR3mFPzuF4",
        "outputId": "5df37ad1-3854-407f-f7a5-043300fcc5cb"
      },
      "outputs": [
        {
          "data": {
            "application/vnd.google.colaboratory.intrinsic+json": {
              "summary": "{\n  \"name\": \"sentiment\",\n  \"rows\": 26592,\n  \"fields\": [\n    {\n      \"column\": \"Sentiment\",\n      \"properties\": {\n        \"dtype\": \"number\",\n        \"std\": 0.49708372221930897,\n        \"min\": -1.0,\n        \"max\": 1.0,\n        \"num_unique_values\": 8676,\n        \"samples\": [\n          0.9999381303787231,\n          -0.999402642250061,\n          0.3333319822947184\n        ],\n        \"semantic_type\": \"\",\n        \"description\": \"\"\n      }\n    }\n  ]\n}",
              "type": "dataframe",
              "variable_name": "sentiment"
            },
            "text/html": [
              "\n",
              "  <div id=\"df-ad916765-0e77-40b4-94f0-29bc778e91a3\" class=\"colab-df-container\">\n",
              "    <div>\n",
              "<style scoped>\n",
              "    .dataframe tbody tr th:only-of-type {\n",
              "        vertical-align: middle;\n",
              "    }\n",
              "\n",
              "    .dataframe tbody tr th {\n",
              "        vertical-align: top;\n",
              "    }\n",
              "\n",
              "    .dataframe thead th {\n",
              "        text-align: right;\n",
              "    }\n",
              "</style>\n",
              "<table border=\"1\" class=\"dataframe\">\n",
              "  <thead>\n",
              "    <tr style=\"text-align: right;\">\n",
              "      <th></th>\n",
              "      <th></th>\n",
              "      <th>Sentiment</th>\n",
              "    </tr>\n",
              "    <tr>\n",
              "      <th>Symbol</th>\n",
              "      <th>Date</th>\n",
              "      <th></th>\n",
              "    </tr>\n",
              "  </thead>\n",
              "  <tbody>\n",
              "    <tr>\n",
              "      <th rowspan=\"5\" valign=\"top\">A</th>\n",
              "      <th>Apr-05-24</th>\n",
              "      <td>0.999963</td>\n",
              "    </tr>\n",
              "    <tr>\n",
              "      <th>Apr-04-24</th>\n",
              "      <td>0.999681</td>\n",
              "    </tr>\n",
              "    <tr>\n",
              "      <th>Apr-03-24</th>\n",
              "      <td>0.999998</td>\n",
              "    </tr>\n",
              "    <tr>\n",
              "      <th>Apr-02-24</th>\n",
              "      <td>0.500000</td>\n",
              "    </tr>\n",
              "    <tr>\n",
              "      <th>Apr-01-24</th>\n",
              "      <td>0.999990</td>\n",
              "    </tr>\n",
              "    <tr>\n",
              "      <th>...</th>\n",
              "      <th>...</th>\n",
              "      <td>...</td>\n",
              "    </tr>\n",
              "    <tr>\n",
              "      <th rowspan=\"5\" valign=\"top\">ZTS</th>\n",
              "      <th>Sep-15-23</th>\n",
              "      <td>0.000000</td>\n",
              "    </tr>\n",
              "    <tr>\n",
              "      <th>Sep-13-23</th>\n",
              "      <td>0.000000</td>\n",
              "    </tr>\n",
              "    <tr>\n",
              "      <th>Sep-12-23</th>\n",
              "      <td>0.499582</td>\n",
              "    </tr>\n",
              "    <tr>\n",
              "      <th>Sep-09-23</th>\n",
              "      <td>0.000000</td>\n",
              "    </tr>\n",
              "    <tr>\n",
              "      <th>Sep-07-23</th>\n",
              "      <td>-0.999245</td>\n",
              "    </tr>\n",
              "  </tbody>\n",
              "</table>\n",
              "<p>26592 rows × 1 columns</p>\n",
              "</div>\n",
              "    <div class=\"colab-df-buttons\">\n",
              "\n",
              "  <div class=\"colab-df-container\">\n",
              "    <button class=\"colab-df-convert\" onclick=\"convertToInteractive('df-ad916765-0e77-40b4-94f0-29bc778e91a3')\"\n",
              "            title=\"Convert this dataframe to an interactive table.\"\n",
              "            style=\"display:none;\">\n",
              "\n",
              "  <svg xmlns=\"http://www.w3.org/2000/svg\" height=\"24px\" viewBox=\"0 -960 960 960\">\n",
              "    <path d=\"M120-120v-720h720v720H120Zm60-500h600v-160H180v160Zm220 220h160v-160H400v160Zm0 220h160v-160H400v160ZM180-400h160v-160H180v160Zm440 0h160v-160H620v160ZM180-180h160v-160H180v160Zm440 0h160v-160H620v160Z\"/>\n",
              "  </svg>\n",
              "    </button>\n",
              "\n",
              "  <style>\n",
              "    .colab-df-container {\n",
              "      display:flex;\n",
              "      gap: 12px;\n",
              "    }\n",
              "\n",
              "    .colab-df-convert {\n",
              "      background-color: #E8F0FE;\n",
              "      border: none;\n",
              "      border-radius: 50%;\n",
              "      cursor: pointer;\n",
              "      display: none;\n",
              "      fill: #1967D2;\n",
              "      height: 32px;\n",
              "      padding: 0 0 0 0;\n",
              "      width: 32px;\n",
              "    }\n",
              "\n",
              "    .colab-df-convert:hover {\n",
              "      background-color: #E2EBFA;\n",
              "      box-shadow: 0px 1px 2px rgba(60, 64, 67, 0.3), 0px 1px 3px 1px rgba(60, 64, 67, 0.15);\n",
              "      fill: #174EA6;\n",
              "    }\n",
              "\n",
              "    .colab-df-buttons div {\n",
              "      margin-bottom: 4px;\n",
              "    }\n",
              "\n",
              "    [theme=dark] .colab-df-convert {\n",
              "      background-color: #3B4455;\n",
              "      fill: #D2E3FC;\n",
              "    }\n",
              "\n",
              "    [theme=dark] .colab-df-convert:hover {\n",
              "      background-color: #434B5C;\n",
              "      box-shadow: 0px 1px 3px 1px rgba(0, 0, 0, 0.15);\n",
              "      filter: drop-shadow(0px 1px 2px rgba(0, 0, 0, 0.3));\n",
              "      fill: #FFFFFF;\n",
              "    }\n",
              "  </style>\n",
              "\n",
              "    <script>\n",
              "      const buttonEl =\n",
              "        document.querySelector('#df-ad916765-0e77-40b4-94f0-29bc778e91a3 button.colab-df-convert');\n",
              "      buttonEl.style.display =\n",
              "        google.colab.kernel.accessAllowed ? 'block' : 'none';\n",
              "\n",
              "      async function convertToInteractive(key) {\n",
              "        const element = document.querySelector('#df-ad916765-0e77-40b4-94f0-29bc778e91a3');\n",
              "        const dataTable =\n",
              "          await google.colab.kernel.invokeFunction('convertToInteractive',\n",
              "                                                    [key], {});\n",
              "        if (!dataTable) return;\n",
              "\n",
              "        const docLinkHtml = 'Like what you see? Visit the ' +\n",
              "          '<a target=\"_blank\" href=https://colab.research.google.com/notebooks/data_table.ipynb>data table notebook</a>'\n",
              "          + ' to learn more about interactive tables.';\n",
              "        element.innerHTML = '';\n",
              "        dataTable['output_type'] = 'display_data';\n",
              "        await google.colab.output.renderOutput(dataTable, element);\n",
              "        const docLink = document.createElement('div');\n",
              "        docLink.innerHTML = docLinkHtml;\n",
              "        element.appendChild(docLink);\n",
              "      }\n",
              "    </script>\n",
              "  </div>\n",
              "\n",
              "\n",
              "<div id=\"df-03fabdbf-2ca0-4c08-bfca-920bd44aa016\">\n",
              "  <button class=\"colab-df-quickchart\" onclick=\"quickchart('df-03fabdbf-2ca0-4c08-bfca-920bd44aa016')\"\n",
              "            title=\"Suggest charts\"\n",
              "            style=\"display:none;\">\n",
              "\n",
              "<svg xmlns=\"http://www.w3.org/2000/svg\" height=\"24px\"viewBox=\"0 0 24 24\"\n",
              "     width=\"24px\">\n",
              "    <g>\n",
              "        <path d=\"M19 3H5c-1.1 0-2 .9-2 2v14c0 1.1.9 2 2 2h14c1.1 0 2-.9 2-2V5c0-1.1-.9-2-2-2zM9 17H7v-7h2v7zm4 0h-2V7h2v10zm4 0h-2v-4h2v4z\"/>\n",
              "    </g>\n",
              "</svg>\n",
              "  </button>\n",
              "\n",
              "<style>\n",
              "  .colab-df-quickchart {\n",
              "      --bg-color: #E8F0FE;\n",
              "      --fill-color: #1967D2;\n",
              "      --hover-bg-color: #E2EBFA;\n",
              "      --hover-fill-color: #174EA6;\n",
              "      --disabled-fill-color: #AAA;\n",
              "      --disabled-bg-color: #DDD;\n",
              "  }\n",
              "\n",
              "  [theme=dark] .colab-df-quickchart {\n",
              "      --bg-color: #3B4455;\n",
              "      --fill-color: #D2E3FC;\n",
              "      --hover-bg-color: #434B5C;\n",
              "      --hover-fill-color: #FFFFFF;\n",
              "      --disabled-bg-color: #3B4455;\n",
              "      --disabled-fill-color: #666;\n",
              "  }\n",
              "\n",
              "  .colab-df-quickchart {\n",
              "    background-color: var(--bg-color);\n",
              "    border: none;\n",
              "    border-radius: 50%;\n",
              "    cursor: pointer;\n",
              "    display: none;\n",
              "    fill: var(--fill-color);\n",
              "    height: 32px;\n",
              "    padding: 0;\n",
              "    width: 32px;\n",
              "  }\n",
              "\n",
              "  .colab-df-quickchart:hover {\n",
              "    background-color: var(--hover-bg-color);\n",
              "    box-shadow: 0 1px 2px rgba(60, 64, 67, 0.3), 0 1px 3px 1px rgba(60, 64, 67, 0.15);\n",
              "    fill: var(--button-hover-fill-color);\n",
              "  }\n",
              "\n",
              "  .colab-df-quickchart-complete:disabled,\n",
              "  .colab-df-quickchart-complete:disabled:hover {\n",
              "    background-color: var(--disabled-bg-color);\n",
              "    fill: var(--disabled-fill-color);\n",
              "    box-shadow: none;\n",
              "  }\n",
              "\n",
              "  .colab-df-spinner {\n",
              "    border: 2px solid var(--fill-color);\n",
              "    border-color: transparent;\n",
              "    border-bottom-color: var(--fill-color);\n",
              "    animation:\n",
              "      spin 1s steps(1) infinite;\n",
              "  }\n",
              "\n",
              "  @keyframes spin {\n",
              "    0% {\n",
              "      border-color: transparent;\n",
              "      border-bottom-color: var(--fill-color);\n",
              "      border-left-color: var(--fill-color);\n",
              "    }\n",
              "    20% {\n",
              "      border-color: transparent;\n",
              "      border-left-color: var(--fill-color);\n",
              "      border-top-color: var(--fill-color);\n",
              "    }\n",
              "    30% {\n",
              "      border-color: transparent;\n",
              "      border-left-color: var(--fill-color);\n",
              "      border-top-color: var(--fill-color);\n",
              "      border-right-color: var(--fill-color);\n",
              "    }\n",
              "    40% {\n",
              "      border-color: transparent;\n",
              "      border-right-color: var(--fill-color);\n",
              "      border-top-color: var(--fill-color);\n",
              "    }\n",
              "    60% {\n",
              "      border-color: transparent;\n",
              "      border-right-color: var(--fill-color);\n",
              "    }\n",
              "    80% {\n",
              "      border-color: transparent;\n",
              "      border-right-color: var(--fill-color);\n",
              "      border-bottom-color: var(--fill-color);\n",
              "    }\n",
              "    90% {\n",
              "      border-color: transparent;\n",
              "      border-bottom-color: var(--fill-color);\n",
              "    }\n",
              "  }\n",
              "</style>\n",
              "\n",
              "  <script>\n",
              "    async function quickchart(key) {\n",
              "      const quickchartButtonEl =\n",
              "        document.querySelector('#' + key + ' button');\n",
              "      quickchartButtonEl.disabled = true;  // To prevent multiple clicks.\n",
              "      quickchartButtonEl.classList.add('colab-df-spinner');\n",
              "      try {\n",
              "        const charts = await google.colab.kernel.invokeFunction(\n",
              "            'suggestCharts', [key], {});\n",
              "      } catch (error) {\n",
              "        console.error('Error during call to suggestCharts:', error);\n",
              "      }\n",
              "      quickchartButtonEl.classList.remove('colab-df-spinner');\n",
              "      quickchartButtonEl.classList.add('colab-df-quickchart-complete');\n",
              "    }\n",
              "    (() => {\n",
              "      let quickchartButtonEl =\n",
              "        document.querySelector('#df-03fabdbf-2ca0-4c08-bfca-920bd44aa016 button');\n",
              "      quickchartButtonEl.style.display =\n",
              "        google.colab.kernel.accessAllowed ? 'block' : 'none';\n",
              "    })();\n",
              "  </script>\n",
              "</div>\n",
              "\n",
              "  <div id=\"id_1f181875-a7c2-45c7-b39e-60f298cdf0e1\">\n",
              "    <style>\n",
              "      .colab-df-generate {\n",
              "        background-color: #E8F0FE;\n",
              "        border: none;\n",
              "        border-radius: 50%;\n",
              "        cursor: pointer;\n",
              "        display: none;\n",
              "        fill: #1967D2;\n",
              "        height: 32px;\n",
              "        padding: 0 0 0 0;\n",
              "        width: 32px;\n",
              "      }\n",
              "\n",
              "      .colab-df-generate:hover {\n",
              "        background-color: #E2EBFA;\n",
              "        box-shadow: 0px 1px 2px rgba(60, 64, 67, 0.3), 0px 1px 3px 1px rgba(60, 64, 67, 0.15);\n",
              "        fill: #174EA6;\n",
              "      }\n",
              "\n",
              "      [theme=dark] .colab-df-generate {\n",
              "        background-color: #3B4455;\n",
              "        fill: #D2E3FC;\n",
              "      }\n",
              "\n",
              "      [theme=dark] .colab-df-generate:hover {\n",
              "        background-color: #434B5C;\n",
              "        box-shadow: 0px 1px 3px 1px rgba(0, 0, 0, 0.15);\n",
              "        filter: drop-shadow(0px 1px 2px rgba(0, 0, 0, 0.3));\n",
              "        fill: #FFFFFF;\n",
              "      }\n",
              "    </style>\n",
              "    <button class=\"colab-df-generate\" onclick=\"generateWithVariable('sentiment')\"\n",
              "            title=\"Generate code using this dataframe.\"\n",
              "            style=\"display:none;\">\n",
              "\n",
              "  <svg xmlns=\"http://www.w3.org/2000/svg\" height=\"24px\"viewBox=\"0 0 24 24\"\n",
              "       width=\"24px\">\n",
              "    <path d=\"M7,19H8.4L18.45,9,17,7.55,7,17.6ZM5,21V16.75L18.45,3.32a2,2,0,0,1,2.83,0l1.4,1.43a1.91,1.91,0,0,1,.58,1.4,1.91,1.91,0,0,1-.58,1.4L9.25,21ZM18.45,9,17,7.55Zm-12,3A5.31,5.31,0,0,0,4.9,8.1,5.31,5.31,0,0,0,1,6.5,5.31,5.31,0,0,0,4.9,4.9,5.31,5.31,0,0,0,6.5,1,5.31,5.31,0,0,0,8.1,4.9,5.31,5.31,0,0,0,12,6.5,5.46,5.46,0,0,0,6.5,12Z\"/>\n",
              "  </svg>\n",
              "    </button>\n",
              "    <script>\n",
              "      (() => {\n",
              "      const buttonEl =\n",
              "        document.querySelector('#id_1f181875-a7c2-45c7-b39e-60f298cdf0e1 button.colab-df-generate');\n",
              "      buttonEl.style.display =\n",
              "        google.colab.kernel.accessAllowed ? 'block' : 'none';\n",
              "\n",
              "      buttonEl.onclick = () => {\n",
              "        google.colab.notebook.generateWithVariable('sentiment');\n",
              "      }\n",
              "      })();\n",
              "    </script>\n",
              "  </div>\n",
              "\n",
              "    </div>\n",
              "  </div>\n"
            ],
            "text/plain": [
              "                  Sentiment\n",
              "Symbol Date                \n",
              "A      Apr-05-24   0.999963\n",
              "       Apr-04-24   0.999681\n",
              "       Apr-03-24   0.999998\n",
              "       Apr-02-24   0.500000\n",
              "       Apr-01-24   0.999990\n",
              "...                     ...\n",
              "ZTS    Sep-15-23   0.000000\n",
              "       Sep-13-23   0.000000\n",
              "       Sep-12-23   0.499582\n",
              "       Sep-09-23   0.000000\n",
              "       Sep-07-23  -0.999245\n",
              "\n",
              "[26592 rows x 1 columns]"
            ]
          },
          "execution_count": 4,
          "metadata": {},
          "output_type": "execute_result"
        }
      ],
      "source": [
        "sentiment"
      ]
    },
    {
      "cell_type": "code",
      "execution_count": 5,
      "metadata": {
        "id": "BFU6y76I0Nkt"
      },
      "outputs": [],
      "source": [
        "combined_data = pd.concat([fin_data[[\"Close\"]], sentiment], axis=1).dropna()"
      ]
    },
    {
      "cell_type": "code",
      "execution_count": 6,
      "metadata": {
        "colab": {
          "base_uri": "https://localhost:8080/",
          "height": 490
        },
        "id": "uT6zvcyeA0W_",
        "outputId": "c74b09eb-baac-4271-a989-c3306fb2bc24"
      },
      "outputs": [
        {
          "data": {
            "text/html": [
              "<div>\n",
              "<style scoped>\n",
              "    .dataframe tbody tr th:only-of-type {\n",
              "        vertical-align: middle;\n",
              "    }\n",
              "\n",
              "    .dataframe tbody tr th {\n",
              "        vertical-align: top;\n",
              "    }\n",
              "\n",
              "    .dataframe thead th {\n",
              "        text-align: right;\n",
              "    }\n",
              "</style>\n",
              "<table border=\"1\" class=\"dataframe\">\n",
              "  <thead>\n",
              "    <tr style=\"text-align: right;\">\n",
              "      <th></th>\n",
              "      <th>count</th>\n",
              "    </tr>\n",
              "    <tr>\n",
              "      <th>Symbol</th>\n",
              "      <th></th>\n",
              "    </tr>\n",
              "  </thead>\n",
              "  <tbody>\n",
              "    <tr>\n",
              "      <th>APA</th>\n",
              "      <td>86</td>\n",
              "    </tr>\n",
              "    <tr>\n",
              "      <th>CTRA</th>\n",
              "      <td>81</td>\n",
              "    </tr>\n",
              "    <tr>\n",
              "      <th>AEP</th>\n",
              "      <td>79</td>\n",
              "    </tr>\n",
              "    <tr>\n",
              "      <th>J</th>\n",
              "      <td>79</td>\n",
              "    </tr>\n",
              "    <tr>\n",
              "      <th>EVRG</th>\n",
              "      <td>78</td>\n",
              "    </tr>\n",
              "    <tr>\n",
              "      <th>...</th>\n",
              "      <td>...</td>\n",
              "    </tr>\n",
              "    <tr>\n",
              "      <th>DIS</th>\n",
              "      <td>3</td>\n",
              "    </tr>\n",
              "    <tr>\n",
              "      <th>GOOG</th>\n",
              "      <td>3</td>\n",
              "    </tr>\n",
              "    <tr>\n",
              "      <th>NVDA</th>\n",
              "      <td>3</td>\n",
              "    </tr>\n",
              "    <tr>\n",
              "      <th>GOOGL</th>\n",
              "      <td>3</td>\n",
              "    </tr>\n",
              "    <tr>\n",
              "      <th>TSLA</th>\n",
              "      <td>2</td>\n",
              "    </tr>\n",
              "  </tbody>\n",
              "</table>\n",
              "<p>501 rows × 1 columns</p>\n",
              "</div><br><label><b>dtype:</b> int64</label>"
            ],
            "text/plain": [
              "Symbol\n",
              "APA      86\n",
              "CTRA     81\n",
              "AEP      79\n",
              "J        79\n",
              "EVRG     78\n",
              "         ..\n",
              "DIS       3\n",
              "GOOG      3\n",
              "NVDA      3\n",
              "GOOGL     3\n",
              "TSLA      2\n",
              "Name: count, Length: 501, dtype: int64"
            ]
          },
          "execution_count": 6,
          "metadata": {},
          "output_type": "execute_result"
        }
      ],
      "source": [
        "combined_data.reset_index()[\"Symbol\"].value_counts()"
      ]
    },
    {
      "cell_type": "code",
      "execution_count": 7,
      "metadata": {
        "colab": {
          "base_uri": "https://localhost:8080/",
          "height": 448
        },
        "id": "jCO3jSkq3Bhr",
        "outputId": "f972f801-50c4-4f59-c134-5b76b74ed185"
      },
      "outputs": [
        {
          "data": {
            "text/plain": [
              "<Axes: >"
            ]
          },
          "execution_count": 7,
          "metadata": {},
          "output_type": "execute_result"
        },
        {
          "data": {
            "image/png": "[encoded data removed]",
            "text/plain": [
              "<Figure size 640x480 with 1 Axes>"
            ]
          },
          "metadata": {},
          "output_type": "display_data"
        }
      ],
      "source": [
        "(combined_data.reset_index()[\"Symbol\"].value_counts()).hist()"
      ]
    },
    {
      "cell_type": "code",
      "execution_count": 8,
      "metadata": {
        "id": "SHBOrAjx5jO8"
      },
      "outputs": [],
      "source": [
        "greater_than_30_entries = [i for i in (combined_data.reset_index()[\"Symbol\"].value_counts() > 30).index if (combined_data.reset_index()[\"Symbol\"].value_counts() > 30)[i]]"
      ]
    },
    {
      "cell_type": "code",
      "execution_count": 9,
      "metadata": {
        "id": "24TkNpKo0VF0"
      },
      "outputs": [],
      "source": [
        "combined_data = combined_data.reset_index()[(combined_data.reset_index()[\"Symbol\"]).isin(greater_than_30_entries)]"
      ]
    },
    {
      "cell_type": "code",
      "execution_count": 11,
      "metadata": {
        "id": "DfJleu_EiX8m"
      },
      "outputs": [],
      "source": [
        "sector_data = pd.read_csv(\"sector_data.csv\")"
      ]
    },
    {
      "cell_type": "code",
      "execution_count": 12,
      "metadata": {
        "id": "UVwbO99vil8k"
      },
      "outputs": [],
      "source": [
        "sector_data = sector_data.sort_values(by=\"Symbol\")"
      ]
    },
    {
      "cell_type": "code",
      "execution_count": 13,
      "metadata": {
        "id": "qax8z5oIivu4"
      },
      "outputs": [],
      "source": [
        "from sklearn.preprocessing import LabelEncoder\n",
        "\n",
        "encoder = LabelEncoder()\n",
        "sector_data.loc[:,\"GICS Sector\"] = encoder.fit_transform(sector_data.loc[:,\"GICS Sector\"])"
      ]
    },
    {
      "cell_type": "code",
      "execution_count": 14,
      "metadata": {
        "colab": {
          "base_uri": "https://localhost:8080/",
          "height": 455
        },
        "id": "ovyi0OyZjdE1",
        "outputId": "c7089bbc-0d07-40ea-c6a1-07b9b09e43fa"
      },
      "outputs": [
        {
          "data": {
            "application/vnd.google.colaboratory.intrinsic+json": {
              "summary": "{\n  \"name\": \"sector_data\",\n  \"rows\": 503,\n  \"fields\": [\n    {\n      \"column\": \"Symbol\",\n      \"properties\": {\n        \"dtype\": \"string\",\n        \"num_unique_values\": 503,\n        \"samples\": [\n          \"KHC\",\n          \"BX\",\n          \"LULU\"\n        ],\n        \"semantic_type\": \"\",\n        \"description\": \"\"\n      }\n    },\n    {\n      \"column\": \"GICS Sector\",\n      \"properties\": {\n        \"dtype\": \"date\",\n        \"min\": 0,\n        \"max\": 10,\n        \"num_unique_values\": 11,\n        \"samples\": [\n          2,\n          5,\n          3\n        ],\n        \"semantic_type\": \"\",\n        \"description\": \"\"\n      }\n    }\n  ]\n}",
              "type": "dataframe",
              "variable_name": "sector_data"
            },
            "text/html": [
              "\n",
              "  <div id=\"df-eb1565c3-fcab-436a-846b-69294d418be9\" class=\"colab-df-container\">\n",
              "    <div>\n",
              "<style scoped>\n",
              "    .dataframe tbody tr th:only-of-type {\n",
              "        vertical-align: middle;\n",
              "    }\n",
              "\n",
              "    .dataframe tbody tr th {\n",
              "        vertical-align: top;\n",
              "    }\n",
              "\n",
              "    .dataframe thead th {\n",
              "        text-align: right;\n",
              "    }\n",
              "</style>\n",
              "<table border=\"1\" class=\"dataframe\">\n",
              "  <thead>\n",
              "    <tr style=\"text-align: right;\">\n",
              "      <th></th>\n",
              "      <th>GICS Sector</th>\n",
              "    </tr>\n",
              "    <tr>\n",
              "      <th>Symbol</th>\n",
              "      <th></th>\n",
              "    </tr>\n",
              "  </thead>\n",
              "  <tbody>\n",
              "    <tr>\n",
              "      <th>A</th>\n",
              "      <td>5</td>\n",
              "    </tr>\n",
              "    <tr>\n",
              "      <th>AAL</th>\n",
              "      <td>6</td>\n",
              "    </tr>\n",
              "    <tr>\n",
              "      <th>AAPL</th>\n",
              "      <td>7</td>\n",
              "    </tr>\n",
              "    <tr>\n",
              "      <th>ABBV</th>\n",
              "      <td>5</td>\n",
              "    </tr>\n",
              "    <tr>\n",
              "      <th>ABNB</th>\n",
              "      <td>1</td>\n",
              "    </tr>\n",
              "    <tr>\n",
              "      <th>...</th>\n",
              "      <td>...</td>\n",
              "    </tr>\n",
              "    <tr>\n",
              "      <th>XYL</th>\n",
              "      <td>6</td>\n",
              "    </tr>\n",
              "    <tr>\n",
              "      <th>YUM</th>\n",
              "      <td>1</td>\n",
              "    </tr>\n",
              "    <tr>\n",
              "      <th>ZBH</th>\n",
              "      <td>5</td>\n",
              "    </tr>\n",
              "    <tr>\n",
              "      <th>ZBRA</th>\n",
              "      <td>7</td>\n",
              "    </tr>\n",
              "    <tr>\n",
              "      <th>ZTS</th>\n",
              "      <td>5</td>\n",
              "    </tr>\n",
              "  </tbody>\n",
              "</table>\n",
              "<p>503 rows × 1 columns</p>\n",
              "</div>\n",
              "    <div class=\"colab-df-buttons\">\n",
              "\n",
              "  <div class=\"colab-df-container\">\n",
              "    <button class=\"colab-df-convert\" onclick=\"convertToInteractive('df-eb1565c3-fcab-436a-846b-69294d418be9')\"\n",
              "            title=\"Convert this dataframe to an interactive table.\"\n",
              "            style=\"display:none;\">\n",
              "\n",
              "  <svg xmlns=\"http://www.w3.org/2000/svg\" height=\"24px\" viewBox=\"0 -960 960 960\">\n",
              "    <path d=\"M120-120v-720h720v720H120Zm60-500h600v-160H180v160Zm220 220h160v-160H400v160Zm0 220h160v-160H400v160ZM180-400h160v-160H180v160Zm440 0h160v-160H620v160ZM180-180h160v-160H180v160Zm440 0h160v-160H620v160Z\"/>\n",
              "  </svg>\n",
              "    </button>\n",
              "\n",
              "  <style>\n",
              "    .colab-df-container {\n",
              "      display:flex;\n",
              "      gap: 12px;\n",
              "    }\n",
              "\n",
              "    .colab-df-convert {\n",
              "      background-color: #E8F0FE;\n",
              "      border: none;\n",
              "      border-radius: 50%;\n",
              "      cursor: pointer;\n",
              "      display: none;\n",
              "      fill: #1967D2;\n",
              "      height: 32px;\n",
              "      padding: 0 0 0 0;\n",
              "      width: 32px;\n",
              "    }\n",
              "\n",
              "    .colab-df-convert:hover {\n",
              "      background-color: #E2EBFA;\n",
              "      box-shadow: 0px 1px 2px rgba(60, 64, 67, 0.3), 0px 1px 3px 1px rgba(60, 64, 67, 0.15);\n",
              "      fill: #174EA6;\n",
              "    }\n",
              "\n",
              "    .colab-df-buttons div {\n",
              "      margin-bottom: 4px;\n",
              "    }\n",
              "\n",
              "    [theme=dark] .colab-df-convert {\n",
              "      background-color: #3B4455;\n",
              "      fill: #D2E3FC;\n",
              "    }\n",
              "\n",
              "    [theme=dark] .colab-df-convert:hover {\n",
              "      background-color: #434B5C;\n",
              "      box-shadow: 0px 1px 3px 1px rgba(0, 0, 0, 0.15);\n",
              "      filter: drop-shadow(0px 1px 2px rgba(0, 0, 0, 0.3));\n",
              "      fill: #FFFFFF;\n",
              "    }\n",
              "  </style>\n",
              "\n",
              "    <script>\n",
              "      const buttonEl =\n",
              "        document.querySelector('#df-eb1565c3-fcab-436a-846b-69294d418be9 button.colab-df-convert');\n",
              "      buttonEl.style.display =\n",
              "        google.colab.kernel.accessAllowed ? 'block' : 'none';\n",
              "\n",
              "      async function convertToInteractive(key) {\n",
              "        const element = document.querySelector('#df-eb1565c3-fcab-436a-846b-69294d418be9');\n",
              "        const dataTable =\n",
              "          await google.colab.kernel.invokeFunction('convertToInteractive',\n",
              "                                                    [key], {});\n",
              "        if (!dataTable) return;\n",
              "\n",
              "        const docLinkHtml = 'Like what you see? Visit the ' +\n",
              "          '<a target=\"_blank\" href=https://colab.research.google.com/notebooks/data_table.ipynb>data table notebook</a>'\n",
              "          + ' to learn more about interactive tables.';\n",
              "        element.innerHTML = '';\n",
              "        dataTable['output_type'] = 'display_data';\n",
              "        await google.colab.output.renderOutput(dataTable, element);\n",
              "        const docLink = document.createElement('div');\n",
              "        docLink.innerHTML = docLinkHtml;\n",
              "        element.appendChild(docLink);\n",
              "      }\n",
              "    </script>\n",
              "  </div>\n",
              "\n",
              "\n",
              "<div id=\"df-c82e3fca-491c-4f8a-9994-0ae4abc488f0\">\n",
              "  <button class=\"colab-df-quickchart\" onclick=\"quickchart('df-c82e3fca-491c-4f8a-9994-0ae4abc488f0')\"\n",
              "            title=\"Suggest charts\"\n",
              "            style=\"display:none;\">\n",
              "\n",
              "<svg xmlns=\"http://www.w3.org/2000/svg\" height=\"24px\"viewBox=\"0 0 24 24\"\n",
              "     width=\"24px\">\n",
              "    <g>\n",
              "        <path d=\"M19 3H5c-1.1 0-2 .9-2 2v14c0 1.1.9 2 2 2h14c1.1 0 2-.9 2-2V5c0-1.1-.9-2-2-2zM9 17H7v-7h2v7zm4 0h-2V7h2v10zm4 0h-2v-4h2v4z\"/>\n",
              "    </g>\n",
              "</svg>\n",
              "  </button>\n",
              "\n",
              "<style>\n",
              "  .colab-df-quickchart {\n",
              "      --bg-color: #E8F0FE;\n",
              "      --fill-color: #1967D2;\n",
              "      --hover-bg-color: #E2EBFA;\n",
              "      --hover-fill-color: #174EA6;\n",
              "      --disabled-fill-color: #AAA;\n",
              "      --disabled-bg-color: #DDD;\n",
              "  }\n",
              "\n",
              "  [theme=dark] .colab-df-quickchart {\n",
              "      --bg-color: #3B4455;\n",
              "      --fill-color: #D2E3FC;\n",
              "      --hover-bg-color: #434B5C;\n",
              "      --hover-fill-color: #FFFFFF;\n",
              "      --disabled-bg-color: #3B4455;\n",
              "      --disabled-fill-color: #666;\n",
              "  }\n",
              "\n",
              "  .colab-df-quickchart {\n",
              "    background-color: var(--bg-color);\n",
              "    border: none;\n",
              "    border-radius: 50%;\n",
              "    cursor: pointer;\n",
              "    display: none;\n",
              "    fill: var(--fill-color);\n",
              "    height: 32px;\n",
              "    padding: 0;\n",
              "    width: 32px;\n",
              "  }\n",
              "\n",
              "  .colab-df-quickchart:hover {\n",
              "    background-color: var(--hover-bg-color);\n",
              "    box-shadow: 0 1px 2px rgba(60, 64, 67, 0.3), 0 1px 3px 1px rgba(60, 64, 67, 0.15);\n",
              "    fill: var(--button-hover-fill-color);\n",
              "  }\n",
              "\n",
              "  .colab-df-quickchart-complete:disabled,\n",
              "  .colab-df-quickchart-complete:disabled:hover {\n",
              "    background-color: var(--disabled-bg-color);\n",
              "    fill: var(--disabled-fill-color);\n",
              "    box-shadow: none;\n",
              "  }\n",
              "\n",
              "  .colab-df-spinner {\n",
              "    border: 2px solid var(--fill-color);\n",
              "    border-color: transparent;\n",
              "    border-bottom-color: var(--fill-color);\n",
              "    animation:\n",
              "      spin 1s steps(1) infinite;\n",
              "  }\n",
              "\n",
              "  @keyframes spin {\n",
              "    0% {\n",
              "      border-color: transparent;\n",
              "      border-bottom-color: var(--fill-color);\n",
              "      border-left-color: var(--fill-color);\n",
              "    }\n",
              "    20% {\n",
              "      border-color: transparent;\n",
              "      border-left-color: var(--fill-color);\n",
              "      border-top-color: var(--fill-color);\n",
              "    }\n",
              "    30% {\n",
              "      border-color: transparent;\n",
              "      border-left-color: var(--fill-color);\n",
              "      border-top-color: var(--fill-color);\n",
              "      border-right-color: var(--fill-color);\n",
              "    }\n",
              "    40% {\n",
              "      border-color: transparent;\n",
              "      border-right-color: var(--fill-color);\n",
              "      border-top-color: var(--fill-color);\n",
              "    }\n",
              "    60% {\n",
              "      border-color: transparent;\n",
              "      border-right-color: var(--fill-color);\n",
              "    }\n",
              "    80% {\n",
              "      border-color: transparent;\n",
              "      border-right-color: var(--fill-color);\n",
              "      border-bottom-color: var(--fill-color);\n",
              "    }\n",
              "    90% {\n",
              "      border-color: transparent;\n",
              "      border-bottom-color: var(--fill-color);\n",
              "    }\n",
              "  }\n",
              "</style>\n",
              "\n",
              "  <script>\n",
              "    async function quickchart(key) {\n",
              "      const quickchartButtonEl =\n",
              "        document.querySelector('#' + key + ' button');\n",
              "      quickchartButtonEl.disabled = true;  // To prevent multiple clicks.\n",
              "      quickchartButtonEl.classList.add('colab-df-spinner');\n",
              "      try {\n",
              "        const charts = await google.colab.kernel.invokeFunction(\n",
              "            'suggestCharts', [key], {});\n",
              "      } catch (error) {\n",
              "        console.error('Error during call to suggestCharts:', error);\n",
              "      }\n",
              "      quickchartButtonEl.classList.remove('colab-df-spinner');\n",
              "      quickchartButtonEl.classList.add('colab-df-quickchart-complete');\n",
              "    }\n",
              "    (() => {\n",
              "      let quickchartButtonEl =\n",
              "        document.querySelector('#df-c82e3fca-491c-4f8a-9994-0ae4abc488f0 button');\n",
              "      quickchartButtonEl.style.display =\n",
              "        google.colab.kernel.accessAllowed ? 'block' : 'none';\n",
              "    })();\n",
              "  </script>\n",
              "</div>\n",
              "\n",
              "  <div id=\"id_71f305e9-8ded-4c5b-a31a-0010acf45478\">\n",
              "    <style>\n",
              "      .colab-df-generate {\n",
              "        background-color: #E8F0FE;\n",
              "        border: none;\n",
              "        border-radius: 50%;\n",
              "        cursor: pointer;\n",
              "        display: none;\n",
              "        fill: #1967D2;\n",
              "        height: 32px;\n",
              "        padding: 0 0 0 0;\n",
              "        width: 32px;\n",
              "      }\n",
              "\n",
              "      .colab-df-generate:hover {\n",
              "        background-color: #E2EBFA;\n",
              "        box-shadow: 0px 1px 2px rgba(60, 64, 67, 0.3), 0px 1px 3px 1px rgba(60, 64, 67, 0.15);\n",
              "        fill: #174EA6;\n",
              "      }\n",
              "\n",
              "      [theme=dark] .colab-df-generate {\n",
              "        background-color: #3B4455;\n",
              "        fill: #D2E3FC;\n",
              "      }\n",
              "\n",
              "      [theme=dark] .colab-df-generate:hover {\n",
              "        background-color: #434B5C;\n",
              "        box-shadow: 0px 1px 3px 1px rgba(0, 0, 0, 0.15);\n",
              "        filter: drop-shadow(0px 1px 2px rgba(0, 0, 0, 0.3));\n",
              "        fill: #FFFFFF;\n",
              "      }\n",
              "    </style>\n",
              "    <button class=\"colab-df-generate\" onclick=\"generateWithVariable('sector_data')\"\n",
              "            title=\"Generate code using this dataframe.\"\n",
              "            style=\"display:none;\">\n",
              "\n",
              "  <svg xmlns=\"http://www.w3.org/2000/svg\" height=\"24px\"viewBox=\"0 0 24 24\"\n",
              "       width=\"24px\">\n",
              "    <path d=\"M7,19H8.4L18.45,9,17,7.55,7,17.6ZM5,21V16.75L18.45,3.32a2,2,0,0,1,2.83,0l1.4,1.43a1.91,1.91,0,0,1,.58,1.4,1.91,1.91,0,0,1-.58,1.4L9.25,21ZM18.45,9,17,7.55Zm-12,3A5.31,5.31,0,0,0,4.9,8.1,5.31,5.31,0,0,0,1,6.5,5.31,5.31,0,0,0,4.9,4.9,5.31,5.31,0,0,0,6.5,1,5.31,5.31,0,0,0,8.1,4.9,5.31,5.31,0,0,0,12,6.5,5.46,5.46,0,0,0,6.5,12Z\"/>\n",
              "  </svg>\n",
              "    </button>\n",
              "    <script>\n",
              "      (() => {\n",
              "      const buttonEl =\n",
              "        document.querySelector('#id_71f305e9-8ded-4c5b-a31a-0010acf45478 button.colab-df-generate');\n",
              "      buttonEl.style.display =\n",
              "        google.colab.kernel.accessAllowed ? 'block' : 'none';\n",
              "\n",
              "      buttonEl.onclick = () => {\n",
              "        google.colab.notebook.generateWithVariable('sector_data');\n",
              "      }\n",
              "      })();\n",
              "    </script>\n",
              "  </div>\n",
              "\n",
              "    </div>\n",
              "  </div>\n"
            ],
            "text/plain": [
              "       GICS Sector\n",
              "Symbol            \n",
              "A                5\n",
              "AAL              6\n",
              "AAPL             7\n",
              "ABBV             5\n",
              "ABNB             1\n",
              "...            ...\n",
              "XYL              6\n",
              "YUM              1\n",
              "ZBH              5\n",
              "ZBRA             7\n",
              "ZTS              5\n",
              "\n",
              "[503 rows x 1 columns]"
            ]
          },
          "execution_count": 14,
          "metadata": {},
          "output_type": "execute_result"
        }
      ],
      "source": [
        "sector_data = sector_data.set_index(\"Symbol\")\n",
        "sector_data"
      ]
    },
    {
      "cell_type": "code",
      "execution_count": 15,
      "metadata": {
        "colab": {
          "base_uri": "https://localhost:8080/"
        },
        "id": "PWE89Ap7jlGP",
        "outputId": "8bc229cd-6424-4ff7-e233-3b01ac4a47fa"
      },
      "outputs": [
        {
          "data": {
            "text/plain": [
              "array(['Communication Services', 'Consumer Discretionary',\n",
              "       'Consumer Staples', 'Energy', 'Financials', 'Health Care',\n",
              "       'Industrials', 'Information Technology', 'Materials',\n",
              "       'Real Estate', 'Utilities'], dtype=object)"
            ]
          },
          "execution_count": 15,
          "metadata": {},
          "output_type": "execute_result"
        }
      ],
      "source": [
        "encoder.inverse_transform(range(11))"
      ]
    },
    {
      "cell_type": "code",
      "execution_count": 16,
      "metadata": {
        "id": "n7BR-2GPkQg4"
      },
      "outputs": [],
      "source": [
        "combined_data = combined_data[~combined_data[\"Symbol\"].isin(['VFC', 'XRAY'])]"
      ]
    },
    {
      "cell_type": "code",
      "execution_count": 17,
      "metadata": {
        "id": "dXvnpqj71y5A"
      },
      "outputs": [],
      "source": [
        "combined_data['Sector'] = sector_data.loc[combined_data['Symbol']].values.flatten()"
      ]
    },
    {
      "cell_type": "code",
      "execution_count": 18,
      "metadata": {
        "id": "SktQuYOBk-bj"
      },
      "outputs": [],
      "source": [
        "combined_data = combined_data.sort_values(by=[\"Sector\", \"Symbol\"]).set_index(\"Symbol\")"
      ]
    },
    {
      "cell_type": "code",
      "execution_count": 19,
      "metadata": {
        "id": "x00N1ewClz_q"
      },
      "outputs": [],
      "source": [
        "def normalization():\n",
        "  count = 0\n",
        "  group_by = combined_data.groupby(by=[\"Symbol\"])\n",
        "  df = pd.DataFrame(columns=[\"Symbol\", \"Max\", \"Min\"])\n",
        "  # print(group_by.count())\n",
        "  for symbol in combined_data.index.unique():\n",
        "    max = group_by.max()[\"Close\"].loc[symbol]\n",
        "    min = group_by.min()[\"Close\"].loc[symbol]\n",
        "    print(symbol, max, min)\n",
        "    df.loc[count] = [symbol, max, min]\n",
        "    x_std = (combined_data.loc[symbol, 'Close'] - min) / (max - min)\n",
        "    x_scaled = x_std * (max - min) + min\n",
        "    combined_data.loc[symbol, \"Normalized\"] = x_std\n",
        "    count += 1\n",
        "  return df"
      ]
    },
    {
      "cell_type": "code",
      "execution_count": 20,
      "metadata": {
        "colab": {
          "base_uri": "https://localhost:8080/"
        },
        "id": "wgGkwBcJoYXY",
        "outputId": "21cdfbbf-ed75-47f2-d7dc-9d1827a432fd"
      },
      "outputs": [
        {
          "name": "stdout",
          "output_type": "stream",
          "text": [
            "CHTR 414.8399963378906 275.69000244140625\n",
            "EA 143.0800018310547 122.62999725341795\n",
            "FOX 29.799999237060547 26.31999969482422\n",
            "FOXA 31.6200008392334 28.780000686645508\n",
            "IPG 33.27000045776367 27.559999465942383\n",
            "LYV 105.7699966430664 78.0999984741211\n",
            "MTCH 39.040000915527344 33.290000915527344\n",
            "NWS 27.989999771118164 20.950000762939453\n",
            "NWSA 26.8799991607666 20.450000762939453\n",
            "OMC 95.66999816894533 73.30000305175781\n",
            "TMUS 167.4199981689453 160.61000061035156\n",
            "TTWO 169.60000610351562 143.89999389648438\n",
            "APTV 103.16000366210938 75.2699966430664\n",
            "AZO 3239.320068359375 2436.1201171875\n",
            "BBWI 50.02000045776367 28.690000534057617\n",
            "BBY 81.66000366210938 68.02999877929688\n",
            "BWA 41.18000030517578 30.170000076293945\n",
            "CZR 49.15999984741211 40.9900016784668\n",
            "DECK 952.9400024414062 754.1500244140625\n",
            "DHI 164.5500030517578 139.2100067138672\n",
            "DPZ 496.8800048828125 346.8099975585937\n",
            "DRI 174.5800018310547 157.1300048828125\n",
            "EBAY 52.77999877929688 41.06999969482422\n",
            "ETSY 78.8499984741211 64.9800033569336\n",
            "GPC 168.07000732421875 128.6300048828125\n",
            "GRMN 148.8699951171875 101.27999877929688\n",
            "HAS 56.47999954223633 46.40999984741211\n",
            "HLT 214.33999633789065 181.50999450683597\n",
            "KMX 86.9800033569336 63.63999938964844\n",
            "LEN 171.97999572753906 149.85000610351562\n",
            "LKQ 59.0099983215332 43.38999938964844\n",
            "LOW 261.0 220.38999938964844\n",
            "LVS 54.75 45.34000015258789\n",
            "MAR 255.2700042724609 234.94000244140625\n",
            "MGM 47.209999084472656 41.75\n",
            "MHK 127.76000213623048 76.55999755859375\n",
            "NCLH 21.34000015258789 15.93000030517578\n",
            "NVR 7914.2998046875 5377.2900390625\n",
            "ORLY 1135.52001953125 872.0\n",
            "PHM 120.62000274658205 87.58999633789062\n",
            "POOL 406.510009765625 315.7699890136719\n",
            "RCL 140.55999755859375 114.9000015258789\n",
            "RL 190.4199981689453 111.4499969482422\n",
            "ROST 150.4499969482422 128.82000732421875\n",
            "TJX 101.41999816894533 88.11000061035156\n",
            "TPR 48.54999923706055 30.57999992370605\n",
            "TSCO 262.9700012207031 188.7899932861328\n",
            "WYNN 107.45999908447266 84.41999816894531\n",
            "YUM 140.74000549316406 129.63999938964844\n",
            "ADM 63.459999084472656 52.470001220703125\n",
            "BG 115.0199966430664 86.5\n",
            "CAG 31.09000015258789 26.729999542236328\n",
            "CHD 105.41999816894533 86.80000305175781\n",
            "CL 90.05000305175781 76.9800033569336\n",
            "CLX 156.60000610351562 139.72999572753906\n",
            "CPB 45.34000015258789 40.91999816894531\n",
            "EL 154.14999389648438 134.1199951171875\n",
            "GIS 70.37999725341797 62.369998931884766\n",
            "HRL 35.31999969482422 29.11000061035156\n",
            "HSY 202.30999755859372 179.52000427246094\n",
            "K 57.58000183105469 51.34000015258789\n",
            "KDP 33.31999969482422 28.899999618530277\n",
            "KMB 129.35000610351562 118.04000091552734\n",
            "KVUE 27.5 18.209999084472656\n",
            "LW 109.98999786376952 79.77999877929688\n",
            "MDLZ 76.87000274658203 67.98999786376953\n",
            "MKC 93.25 65.01000213623047\n",
            "MNST 60.540000915527344 55.02000045776367\n",
            "MO 44.95000076293945 39.72999954223633\n",
            "PM 95.33000183105467 88.9800033569336\n",
            "SJM 132.2100067138672 108.3499984741211\n",
            "STZ 272.0400085449219 242.3300018310547\n",
            "SYY 82.36000061035156 62.68999862670898\n",
            "TAP 70.48999786376953 57.83000183105469\n",
            "TSN 59.04999923706055 51.15999984741211\n",
            "APA 49.040000915527344 29.6200008392334\n",
            "BKR 34.4900016784668 28.5\n",
            "COP 133.52000427246094 107.56999969482422\n",
            "CTRA 34.33000183105469 23.0\n",
            "DVN 53.27000045776367 40.68999862670898\n",
            "EOG 135.94000244140625 110.16999816894533\n",
            "EQT 43.68000030517578 32.959999084472656\n",
            "HAL 41.2400016784668 33.310001373291016\n",
            "HES 156.17999267578125 136.72999572753906\n",
            "KMI 18.549999237060547 16.56999969482422\n",
            "MPC 219.1300048828125 148.36000061035156\n",
            "MRO 29.690000534057617 22.149999618530277\n",
            "OKE 80.16999816894531 61.34999847412109\n",
            "OXY 69.25 55.54999923706055\n",
            "PSX 172.7100067138672 127.16000366210938\n",
            "PXD 272.7799987792969 216.8300018310547\n",
            "SLB 55.220001220703125 47.08000183105469\n",
            "TRGP 111.98999786376952 67.5199966430664\n",
            "VLO 183.38999938964844 119.91999816894533\n",
            "WMB 39.34999847412109 33.04999923706055\n",
            "ACGL 94.9000015258789 73.41999816894531\n",
            "AFL 85.86000061035156 76.19999694824219\n",
            "AIG 78.16999816894531 61.310001373291016\n",
            "AIZ 187.22000122070312 138.83999633789062\n",
            "AJG 255.3800048828125 225.0200042724609\n",
            "ALL 173.4199981689453 135.6199951171875\n",
            "AMP 438.4400024414063 307.1400146484375\n",
            "AON 339.32000732421875 288.0199890136719\n",
            "BEN 30.059999465942383 24.799999237060547\n",
            "BK 57.27999877929688 41.4900016784668\n",
            "BRO 86.31999969482422 66.77999877929688\n",
            "CB 260.2099914550781 218.22000122070312\n",
            "CBOE 195.77999877929688 162.8000030517578\n",
            "CFG 35.81999969482422 22.8700008392334\n",
            "CINF 121.5199966430664 97.58000183105467\n",
            "CMA 56.810001373291016 37.95000076293945\n",
            "CME 221.3500061035156 196.3999938964844\n",
            "CPAY 307.6600036621094 225.1699981689453\n",
            "EG 414.25 334.1700134277344\n",
            "FDS 487.8999938964844 387.5700073242188\n",
            "FI 158.6699981689453 109.61000061035156\n",
            "FIS 74.18000030517578 49.11000061035156\n",
            "FITB 37.209999084472656 22.979999542236328\n",
            "GL 126.93000030517578 105.30999755859376\n",
            "GPN 138.97999572753906 103.8000030517578\n",
            "HBAN 13.949999809265137 9.470000267028809\n",
            "HIG 103.23999786376952 68.04000091552734\n",
            "ICE 139.4199981689453 113.33999633789062\n",
            "IVZ 18.21999931335449 15.09000015258789\n",
            "JKHY 175.92999267578125 139.7899932861328\n",
            "KEY 15.8100004196167 13.199999809265137\n",
            "L 75.47000122070312 51.43000030517578\n",
            "MA 488.6400146484375 449.2300109863281\n",
            "MCO 404.8500061035156 306.32000732421875\n",
            "MET 73.56999969482422 59.34999847412109\n",
            "MKTX 292.8500061035156 204.75999450683597\n",
            "MMC 207.8999938964844 184.8999938964844\n",
            "MTB 145.85000610351562 108.94000244140624\n",
            "NDAQ 63.09999847412109 48.709999084472656\n",
            "NTRS 87.56999969482422 63.54999923706055\n",
            "PFG 86.06999969482422 67.05999755859375\n",
            "PGR 211.0 153.41000366210938\n",
            "PNC 161.60000610351562 140.6699981689453\n",
            "PRU 117.4000015258789 95.88999938964844\n",
            "RF 20.68000030517578 14.0600004196167\n",
            "RJF 128.52000427246094 90.3499984741211\n",
            "SCHW 72.37999725341797 62.709999084472656\n",
            "STT 78.55000305175781 67.5999984741211\n",
            "SYF 43.47999954223633 27.3700008392334\n",
            "TFC 38.97999954223633 33.040000915527344\n",
            "TROW 120.54000091552734 97.16999816894533\n",
            "TRV 227.8500061035156 160.38999938964844\n",
            "USB 45.33000183105469 39.08000183105469\n",
            "V 290.3699951171875 274.0\n",
            "WRB 88.16999816894531 60.93000030517578\n",
            "WTW 277.57000732421875 196.44000244140625\n",
            "A 147.83999633789062 107.45999908447266\n",
            "ABT 120.91999816894533 110.01000213623048\n",
            "ALGN 327.9200134277344 184.58999633789065\n",
            "AMGN 324.5599975585937 268.0899963378906\n",
            "BAX 45.47999954223633 31.979999542236328\n",
            "BDX 259.1000061035156 232.2400054931641\n",
            "BIIB 251.67999267578125 203.8699951171875\n",
            "BIO 564.8499755859375 270.67999267578125\n",
            "BMY 54.400001525878906 47.97999954223633\n",
            "BSX 68.48999786376953 54.880001068115234\n",
            "CAH 115.4800033569336 100.27999877929688\n",
            "CI 364.0799865722656 298.95001220703125\n",
            "CNC 79.66000366210938 72.44999694824219\n",
            "COO 102.19000244140624 77.38500213623047\n",
            "COR 244.63999938964844 172.8699951171875\n",
            "CRL 273.42999267578125 167.52000427246094\n",
            "CVS 79.76000213623047 73.70999908447266\n",
            "DGX 142.11000061035156 123.58000183105467\n",
            "DHR 256.19000244140625 195.5200042724609\n",
            "DVA 138.3300018310547 76.37999725341797\n",
            "DXCM 140.10000610351562 115.31999969482422\n",
            "ELV 518.5399780273438 464.6099853515625\n",
            "EW 94.30999755859376 61.709999084472656\n",
            "GEHC 93.0199966430664 63.90999984741211\n",
            "GILD 77.72000122070312 69.58000183105469\n",
            "HCA 333.5299987792969 278.92999267578125\n",
            "HOLX 77.95999908447266 65.11000061035156\n",
            "HSIC 78.33000183105469 61.88999938964844\n",
            "HUM 378.05999755859375 304.3299865722656\n",
            "IDXX 573.6099853515625 395.3500061035156\n",
            "ILMN 147.1999969482422 126.0\n",
            "INCY 65.81999969482422 52.15999984741211\n",
            "IQV 255.6499938964844 177.16000366210938\n",
            "ISRG 400.5899963378906 370.0700073242188\n",
            "LH 232.55999755859372 197.8699951171875\n",
            "MCK 539.260009765625 441.6799926757813\n",
            "MDT 87.73999786376953 83.08000183105469\n",
            "MOH 419.5299987792969 301.4599914550781\n",
            "MRK 131.9499969482422 120.51000213623048\n",
            "MTD 1561.800048828125 991.2100219726562\n",
            "PODD 220.7100067138672 130.75999450683594\n",
            "REGN 981.2000122070312 841.8800048828125\n",
            "RMD 192.6000061035156 134.64999389648438\n",
            "RVTY 130.8699951171875 82.08000183105469\n",
            "STE 233.6999969482422 181.83999633789065\n",
            "SYK 358.7099914550781 258.5799865722656\n",
            "TECH 85.9800033569336 52.83000183105469\n",
            "TFX 257.7799987792969 180.9499969482422\n",
            "TMO 599.4299926757812 528.8200073242188\n",
            "UHS 182.4600067138672 122.20999908447266\n",
            "VRTX 433.4800109863281 406.6700134277344\n",
            "VTRS 13.529999732971191 8.770000457763672\n",
            "WAT 361.0 245.41000366210935\n",
            "WST 413.0 319.8599853515625\n",
            "ZBH 132.61000061035156 102.72000122070312\n",
            "ZTS 198.94000244140625 156.02999877929688\n",
            "ADP 254.75999450683597 210.3699951171875\n",
            "ALLE 135.2899932861328 96.5199966430664\n",
            "AME 182.8999938964844 139.66000366210938\n",
            "AOS 88.6500015258789 65.44999694824219\n",
            "AXON 316.32000732421875 200.75999450683597\n",
            "BLDR 210.5399932861328 111.9000015258789\n",
            "BR 208.9600067138672 169.47000122070312\n",
            "CARR 59.54999923706055 46.400001525878906\n",
            "CAT 379.2999877929688 312.8399963378906\n",
            "CHRW 90.54000091552734 72.22000122070312\n",
            "CMI 294.69000244140625 229.2100067138672\n",
            "CPRT 58.06999969482422 42.619998931884766\n",
            "CSX 38.33000183105469 29.239999771118164\n",
            "CTAS 687.030029296875 496.4100036621094\n",
            "DAY 75.11000061035156 61.040000915527344\n",
            "DE 410.739990234375 356.7799987792969\n",
            "DOV 177.22000122070312 129.9499969482422\n",
            "EFX 270.95001220703125 162.67999267578125\n",
            "EMR 113.4499969482422 84.75\n",
            "ETN 320.1600036621094 195.22999572753903\n",
            "EXPD 127.25 104.55999755859376\n",
            "FAST 78.0999984741211 57.58000183105469\n",
            "FTV 86.29000091552734 63.060001373291016\n",
            "GD 293.2200012207031 249.33999633789065\n",
            "GNRC 134.41000366210938 82.19999694824219\n",
            "GWW 1017.2999877929688 677.4099731445312\n",
            "HII 296.42999267578125 228.5200042724609\n",
            "HON 209.7100067138672 193.4600067138672\n",
            "HUBB 417.9200134277344 270.1000061035156\n",
            "HWM 68.43000030517578 43.09000015258789\n",
            "IEX 241.97000122070312 187.0\n",
            "IR 95.26000213623048 56.65999984741211\n",
            "ITW 268.75 222.4499969482422\n",
            "J 153.72999572753906 109.5999984741211\n",
            "JBHT 217.55999755859372 171.8699951171875\n",
            "JCI 64.77999877929688 48.09999847412109\n",
            "LDOS 131.08999633789062 99.12000274658205\n",
            "LHX 215.9600067138672 170.92999267578125\n",
            "LMT 456.7799987792969 424.2699890136719\n",
            "MAS 78.18000030517578 48.31999969482422\n",
            "NDSN 274.5400085449219 212.8000030517578\n",
            "NOC 478.6600036621094 434.5499877929688\n",
            "NSC 263.1300048828125 234.25999450683597\n",
            "ODFL 224.57000732421875 184.7250061035156\n",
            "OTIS 100.22000122070312 75.47000122070312\n",
            "PAYC 207.97999572753903 180.0800018310547\n",
            "PAYX 127.86000061035156 108.86000061035156\n",
            "PCAR 123.4000015258789 83.1500015258789\n",
            "PH 566.6699829101562 366.8699951171875\n",
            "PNR 82.80000305175781 55.470001220703125\n",
            "PWR 262.2900085449219 164.75999450683594\n",
            "RHI 87.37000274658203 70.52999877929688\n",
            "ROK 310.6199951171875 253.27999877929688\n",
            "ROL 47.0099983215332 32.91999816894531\n",
            "RSG 191.5200042724609 142.5\n",
            "RTX 98.5500030517578 89.48999786376953\n",
            "SNA 294.760009765625 250.1999969482422\n",
            "SWK 101.48999786376952 77.2300033569336\n",
            "TDG 1223.4100341796875 812.25\n",
            "TT 304.6700134277344 213.1100006103516\n",
            "TXT 96.25 75.93000030517578\n",
            "UNP 256.9100036621094 219.2100067138672\n",
            "URI 720.1500244140625 455.8800048828125\n",
            "VRSK 250.66000366210935 222.25\n",
            "WAB 148.1999969482422 98.73999786376952\n",
            "WM 212.91000366210935 154.6300048828125\n",
            "XYL 129.99000549316406 89.44000244140625\n",
            "ACN 386.9100036621094 330.4700012207031\n",
            "ADI 201.3699951171875 159.24000549316406\n",
            "ADSK 266.67999267578125 202.66000366210935\n",
            "AKAM 128.14999389648438 105.98999786376952\n",
            "ANET 306.4200134277344 229.3999938964844\n",
            "ANSS 361.8599853515625 327.4200134277344\n",
            "APH 115.37000274658205 73.91000366210938\n",
            "CDNS 322.79998779296875 290.29998779296875\n",
            "CDW 255.6699981689453 163.1300048828125\n",
            "CTSH 79.45999908447266 62.59999847412109\n",
            "ENPH 136.38999938964844 97.8000030517578\n",
            "EPAM 311.9800109863281 211.3300018310547\n",
            "FFIV 192.92999267578125 146.4199981689453\n",
            "FICO 1328.5899658203125 927.760009765625\n",
            "FSLR 174.60000610351562 139.8000030517578\n",
            "FTNT 73.06999969482422 60.619998931884766\n",
            "GEN 24.18000030517578 16.989999771118164\n",
            "GLW 35.849998474121094 26.65999984741211\n",
            "HPE 18.770000457763672 14.859999656677246\n",
            "HPQ 31.0 27.950000762939453\n",
            "INTU 669.3599853515625 621.280029296875\n",
            "IT 480.8399963378906 332.0400085449219\n",
            "JBL 154.52999877929688 114.26000213623048\n",
            "KEYS 161.17999267578125 135.72000122070312\n",
            "KLAC 717.5700073242188 357.3599853515625\n",
            "LRCX 982.5700073242188 736.9299926757812\n",
            "MCHP 93.33999633789062 80.58000183105469\n",
            "MPWR 752.3099975585938 404.0\n",
            "MSI 354.9800109863281 272.3900146484375\n",
            "NOW 812.9400024414062 741.0599975585938\n",
            "NTAP 106.4800033569336 73.83999633789062\n",
            "NXPI 259.0400085449219 183.3500061035156\n",
            "ON 86.20999908447266 66.25\n",
            "PTC 187.88999938964844 136.05999755859375\n",
            "QRVO 120.22000122070312 85.4800033569336\n",
            "ROP 561.5700073242188 480.3800048828125\n",
            "STX 94.72000122070312 63.41999816894531\n",
            "SWKS 111.61000061035156 86.5\n",
            "TDY 441.9800109863281 372.239990234375\n",
            "TEL 145.67999267578125 116.33999633789062\n",
            "TER 111.54000091552734 82.76000213623047\n",
            "TRMB 63.43999862670898 40.81999969482422\n",
            "TXN 174.8300018310547 156.85000610351562\n",
            "TYL 444.0 363.6000061035156\n",
            "VRSN 214.58999633789065 187.02999877929688\n",
            "WDC 73.11000061035156 40.150001525878906\n",
            "ZBRA 297.94000244140625 197.9900054931641\n",
            "AMCR 10.970000267028809 8.5600004196167\n",
            "APD 276.3399963378906 215.3800048828125\n",
            "AVY 223.57000732421875 159.24000549316406\n",
            "BALL 66.45999908447266 42.81999969482422\n",
            "CE 171.27000427246094 113.0199966430664\n",
            "CF 86.55000305175781 73.86000061035156\n",
            "CTVA 56.95000076293945 43.54999923706055\n",
            "DD 77.12000274658203 61.209999084472656\n",
            "DOW 59.9900016784668 53.58000183105469\n",
            "ECL 229.2700042724609 158.4199981689453\n",
            "EMN 100.43000030517578 69.02999877929688\n",
            "FCX 49.470001220703125 36.25\n",
            "FMC 66.05999755859375 50.0099983215332\n",
            "IFF 85.98999786376953 63.720001220703125\n",
            "IP 39.880001068115234 32.4900016784668\n",
            "LIN 474.8900146484375 364.3800048828125\n",
            "LYB 104.4000015258789 89.23999786376953\n",
            "MLM 607.3499755859375 397.8599853515625\n",
            "MOS 40.79999923706055 29.549999237060547\n",
            "NEM 41.70000076293945 29.8700008392334\n",
            "NUE 200.0 166.7899932861328\n",
            "PKG 185.00999450683597 127.1500015258789\n",
            "PPG 149.5500030517578 122.7699966430664\n",
            "SHW 342.70001220703125 234.97999572753903\n",
            "STLD 149.25999450683594 98.75\n",
            "VMC 275.5899963378906 193.69000244140625\n",
            "WRK 48.59999847412109 33.77000045776367\n",
            "AMT 216.0800018310547 186.67999267578125\n",
            "ARE 134.4499969482422 91.98999786376952\n",
            "AVB 189.83999633789065 162.58999633789062\n",
            "BXP 72.20999908447266 53.22999954223633\n",
            "CBRE 98.12000274658205 66.1500015258789\n",
            "CCI 118.56999969482422 102.16999816894533\n",
            "CPT 126.30999755859376 83.9800033569336\n",
            "CSGP 97.7300033569336 70.79000091552734\n",
            "DLR 153.7100067138672 116.95999908447266\n",
            "DOC 27.530000686645508 15.550000190734863\n",
            "EQIX 910.0999755859376 781.0399780273438\n",
            "EQR 69.05999755859375 53.18999862670898\n",
            "ESS 247.94000244140625 205.66000366210935\n",
            "EXR 164.39999389648438 103.33000183105467\n",
            "FRT 104.4499969482422 87.73999786376953\n",
            "HST 20.8799991607666 15.380000114440918\n",
            "INVH 36.13999938964844 28.799999237060547\n",
            "IRM 81.37000274658203 53.150001525878906\n",
            "KIM 22.100000381469727 16.3799991607666\n",
            "MAA 153.75999450683594 117.56999969482422\n",
            "PLD 135.19000244140625 124.69000244140624\n",
            "PSA 294.8599853515625 237.9900054931641\n",
            "REG 67.8499984741211 53.400001525878906\n",
            "SBAC 250.57000732421875 194.75999450683597\n",
            "SPG 155.80999755859375 105.33000183105467\n",
            "UDR 43.91999816894531 31.40999984741211\n",
            "VICI 32.439998626708984 27.18000030517578\n",
            "VTR 49.84000015258789 41.31999969482422\n",
            "WELL 94.25 79.30999755859375\n",
            "WY 35.93000030517578 28.61000061035156\n",
            "AEE 82.91999816894531 68.36000061035156\n",
            "AEP 97.27999877929688 71.83999633789062\n",
            "AES 22.100000381469727 12.449999809265137\n",
            "ATO 118.87000274658205 102.76000213623048\n",
            "AWK 135.0800018310547 117.13999938964844\n",
            "CEG 193.0800018310547 65.83999633789062\n",
            "CMS 62.66999816894531 50.56999969482422\n",
            "CNP 31.100000381469727 25.75\n",
            "D 49.15999984741211 40.220001220703125\n",
            "DTE 115.87000274658205 95.48999786376952\n",
            "DUK 99.38999938964844 90.8499984741211\n",
            "ED 97.70999908447266 81.62000274658203\n",
            "EIX 71.91000366210938 60.68999862670898\n",
            "ES 64.29000091552734 52.880001068115234\n",
            "ETR 105.4000015258789 91.37999725341795\n",
            "EVRG 70.88999938964844 48.09999847412109\n",
            "EXC 41.0 33.75\n",
            "FE 38.7400016784668 35.130001068115234\n",
            "LNT 55.7400016784668 46.2400016784668\n",
            "NI 27.709999084472656 23.18000030517578\n",
            "NRG 72.01000213623047 37.56999969482422\n",
            "PCG 18.15999984741211 16.239999771118164\n",
            "PEG 66.6500015258789 54.68999862670898\n",
            "PNW 85.23999786376953 66.9000015258789\n",
            "PPL 28.76000022888184 22.549999237060547\n",
            "SO 73.08000183105469 66.45999908447266\n",
            "SRE 76.48999786376953 69.3499984741211\n",
            "WEC 95.94000244140624 77.02999877929688\n",
            "XEL 63.72999954223633 49.56999969482422\n"
          ]
        }
      ],
      "source": [
        "normalization_key = normalization()"
      ]
    },
    {
      "cell_type": "code",
      "execution_count": 21,
      "metadata": {
        "id": "ej-tn2_9rJRl"
      },
      "outputs": [],
      "source": [
        "normalized_data = combined_data[[\"Sentiment\", \"Sector\", \"Normalized\"]].reset_index()"
      ]
    },
    {
      "cell_type": "code",
      "execution_count": 22,
      "metadata": {
        "id": "nkn36iG2sqZt"
      },
      "outputs": [],
      "source": [
        "import numpy as np"
      ]
    },
    {
      "cell_type": "code",
      "execution_count": 25,
      "metadata": {
        "id": "fB2TmQNXsPyp"
      },
      "outputs": [],
      "source": [
        "def batching():\n",
        "  train_symbols = []\n",
        "  test_symbols = []\n",
        "  X_train, X_test = [], []\n",
        "  y_train, y_test = [], []\n",
        "  for symbol in normalized_data[\"Symbol\"].unique():\n",
        "    temp_df = normalized_data[normalized_data[\"Symbol\"] == symbol]\n",
        "    data = np.array(temp_df[[\"Sentiment\", \"Normalized\", \"Sector\"]])\n",
        "    split = int(0.8 * data.shape[0])\n",
        "    counter = 0\n",
        "    for i in range (10, data.shape[0]):\n",
        "      if counter < split:\n",
        "        X_train.append(data[i-10:i, :])\n",
        "        y_train.append(data[i, 1])\n",
        "        train_symbols.append(symbol)\n",
        "      else:\n",
        "        X_test.append(data[i-10:i, :])\n",
        "        y_test.append(data[i, 1])\n",
        "        test_symbols.append(symbol)\n",
        "      counter +=1\n",
        "\n",
        "  return np.array(X_train), np.array(X_test), np.array(y_train), np.array(y_test), train_symbols, test_symbols"
      ]
    },
    {
      "cell_type": "code",
      "execution_count": 26,
      "metadata": {
        "id": "4V2ROQdJyyOH"
      },
      "outputs": [],
      "source": [
        "X_train, X_test, y_train, y_test, train_symbols, test_symbols = batching()"
      ]
    },
    {
      "cell_type": "code",
      "execution_count": 27,
      "metadata": {
        "colab": {
          "base_uri": "https://localhost:8080/"
        },
        "id": "VCnPB4oTy5a6",
        "outputId": "3687df6a-7a46-4988-d9b0-6f1faa29b93c"
      },
      "outputs": [
        {
          "data": {
            "text/plain": [
              "(17086, 10, 3)"
            ]
          },
          "execution_count": 27,
          "metadata": {},
          "output_type": "execute_result"
        }
      ],
      "source": [
        "X_train.shape"
      ]
    },
    {
      "cell_type": "code",
      "execution_count": 28,
      "metadata": {
        "colab": {
          "base_uri": "https://localhost:8080/"
        },
        "id": "zn5xtHz0y6vM",
        "outputId": "8e3e82f9-5411-42da-c9a5-c9676a768459"
      },
      "outputs": [
        {
          "data": {
            "text/plain": [
              "(637, 10, 3)"
            ]
          },
          "execution_count": 28,
          "metadata": {},
          "output_type": "execute_result"
        }
      ],
      "source": [
        "X_test.shape"
      ]
    },
    {
      "cell_type": "code",
      "execution_count": 29,
      "metadata": {
        "colab": {
          "base_uri": "https://localhost:8080/"
        },
        "id": "dWjLL3Piy7-8",
        "outputId": "c14a96fb-f4d5-4752-a4f2-1671e3304161"
      },
      "outputs": [
        {
          "data": {
            "text/plain": [
              "(17086,)"
            ]
          },
          "execution_count": 29,
          "metadata": {},
          "output_type": "execute_result"
        }
      ],
      "source": [
        "y_train.shape"
      ]
    },
    {
      "cell_type": "code",
      "execution_count": 30,
      "metadata": {
        "colab": {
          "base_uri": "https://localhost:8080/"
        },
        "id": "Q7O7Q0jDy9Ug",
        "outputId": "f8527e26-461a-4f35-ed46-89348f6b3db2"
      },
      "outputs": [
        {
          "data": {
            "text/plain": [
              "(637,)"
            ]
          },
          "execution_count": 30,
          "metadata": {},
          "output_type": "execute_result"
        }
      ],
      "source": [
        "y_test.shape"
      ]
    },
    {
      "cell_type": "code",
      "execution_count": 31,
      "metadata": {
        "id": "3d8zQL5_yhGs"
      },
      "outputs": [],
      "source": [
        "import tensorflow as tf\n",
        "from tensorflow import keras\n",
        "\n",
        "from keras.models import Sequential\n",
        "from keras.layers import Dense, LSTM, Dropout, Bidirectional"
      ]
    },
    {
      "cell_type": "code",
      "execution_count": 32,
      "metadata": {
        "colab": {
          "base_uri": "https://localhost:8080/"
        },
        "id": "Wzzh74LW0IZM",
        "outputId": "da92c895-db69-4ad0-d9c4-026ab5157447"
      },
      "outputs": [
        {
          "data": {
            "text/plain": [
              "(10, 3)"
            ]
          },
          "execution_count": 32,
          "metadata": {},
          "output_type": "execute_result"
        }
      ],
      "source": [
        "X_train.shape[1:]"
      ]
    },
    {
      "cell_type": "code",
      "execution_count": 33,
      "metadata": {
        "colab": {
          "base_uri": "https://localhost:8080/",
          "height": 198
        },
        "id": "ZbWmZyGPzbEt",
        "outputId": "04ad3824-ab05-47a3-ba87-0c9ca04a40e4"
      },
      "outputs": [
        {
          "name": "stderr",
          "output_type": "stream",
          "text": [
            "/usr/local/lib/python3.11/dist-packages/keras/src/layers/rnn/rnn.py:200: UserWarning: Do not pass an `input_shape`/`input_dim` argument to a layer. When using Sequential models, prefer using an `Input(shape)` object as the first layer in the model instead.\n",
            "  super().__init__(**kwargs)\n"
          ]
        },
        {
          "data": {
            "application/vnd.google.colaboratory.intrinsic+json": {
              "type": "string"
            },
            "text/plain": [
              "'\\nmodel = Sequential()\\n\\nmodel.add(Bidirectional(LSTM(units=50, return_sequences=True, input_shape=X_train.shape[1:])))\\nmodel.add(Dropout(rate=0.2))\\nmodel.add(Bidirectional(LSTM(units=20, return_sequences=True)))\\nmodel.add(Dropout(rate=0.5))\\nmodel.add(Bidirectional(LSTM(units=20, return_sequences=True)))\\nmodel.add(Dropout(rate=0.5))\\nmodel.add(Bidirectional(LSTM(units=50)))\\nmodel.add(Dense(units=40))\\nmodel.add(Dense(units=1, activation=\"sigmoid\"))\\n\\n40\\n\\n\\nmodel.add(LSTM(units=50, return_sequences=True, input_shape=X_train.shape[1:]))\\nmodel.add(Dropout(rate=0.2))\\nmodel.add(LSTM(units=20, return_sequences=True))\\nmodel.add(Dropout(rate=0.2))\\nmodel.add(LSTM(units=20, return_sequences=True))\\nmodel.add(LSTM(units=50))\\n# model.add(Dropout(rate=0.2))\\nmodel.add(Dense(units=20))\\nmodel.add(Dense(units=1, activation=\"sigmoid\"))\\n\\n20 epochs\\n\\nmodel.add(LSTM(units=50, return_sequences=True, input_shape=X_train.shape[1:]))\\nmodel.add(Dropout(rate=0.2))\\nmodel.add(LSTM(units=20, return_sequences=True))\\nmodel.add(Dropout(rate=0.2))\\nmodel.add(LSTM(units=20, return_sequences=True))\\nmodel.add(Dropout(rate=0.2))\\nmodel.add(LSTM(units=20, return_sequences=True))\\nmodel.add(Dropout(rate=0.2))\\nmodel.add(LSTM(units=50))\\nmodel.add(Dense(units=40))\\nmodel.add(Dense(units=20))\\nmodel.add(Dense(units=1, activation=\"sigmoid\"))\\n\\n\\nmodel.add(LSTM(units=50, return_sequences=True, input_shape=X_train.shape[1:]))\\nmodel.add(Dropout(rate=0.2))\\nmodel.add(LSTM(units=20, return_sequences=True))\\nmodel.add(Dropout(rate=0.2))\\nmodel.add(LSTM(units=50))\\nmodel.add(Dense(units=40))\\nmodel.add(Dense(units=1, activation=\"sigmoid\"))\\n'"
            ]
          },
          "execution_count": 33,
          "metadata": {},
          "output_type": "execute_result"
        }
      ],
      "source": [
        "model = Sequential()\n",
        "\n",
        "model.add(Bidirectional(LSTM(units=50, return_sequences=True, input_shape=X_train.shape[1:])))\n",
        "model.add(Dropout(rate=0.2))\n",
        "model.add(Bidirectional(LSTM(units=20, return_sequences=True)))\n",
        "model.add(Dropout(rate=0.5))\n",
        "model.add(Bidirectional(LSTM(units=20, return_sequences=True)))\n",
        "model.add(Dropout(rate=0.5))\n",
        "model.add(Bidirectional(LSTM(units=50)))\n",
        "model.add(Dense(units=40))\n",
        "model.add(Dense(units=1, activation=\"sigmoid\"))"
      ]
    },
    {
      "cell_type": "code",
      "execution_count": 34,
      "metadata": {
        "id": "yYm1gJYvz0kz"
      },
      "outputs": [],
      "source": [
        "model.compile(optimizer='adam', loss='mean_absolute_error')"
      ]
    },
    {
      "cell_type": "code",
      "execution_count": 35,
      "metadata": {
        "id": "VhgPIrfp1N7n"
      },
      "outputs": [],
      "source": [
        "X_train = np.asarray(X_train).astype(np.float32)\n",
        "y_train = np.asarray(y_train).astype(np.float32)"
      ]
    },
    {
      "cell_type": "code",
      "execution_count": 36,
      "metadata": {
        "colab": {
          "base_uri": "https://localhost:8080/"
        },
        "id": "HP8UvJ_U1vHx",
        "outputId": "b295ed82-fe70-4aa4-d57f-27519e6a1a79"
      },
      "outputs": [
        {
          "data": {
            "text/plain": [
              "(17086, 10, 3)"
            ]
          },
          "execution_count": 36,
          "metadata": {},
          "output_type": "execute_result"
        }
      ],
      "source": [
        "X_train.shape"
      ]
    },
    {
      "cell_type": "code",
      "execution_count": 37,
      "metadata": {
        "colab": {
          "base_uri": "https://localhost:8080/"
        },
        "id": "YUyZyX7R1AyM",
        "outputId": "94e7ddd0-7c42-4ead-dd14-4672ae898ad9"
      },
      "outputs": [
        {
          "name": "stdout",
          "output_type": "stream",
          "text": [
            "Epoch 1/20\n",
            "\u001b[1m214/214\u001b[0m \u001b[32m━━━━━━━━━━━━━━━━━━━━\u001b[0m\u001b[37m\u001b[0m \u001b[1m16s\u001b[0m 21ms/step - loss: 0.1706 - val_loss: 0.1195\n",
            "Epoch 2/20\n",
            "\u001b[1m214/214\u001b[0m \u001b[32m━━━━━━━━━━━━━━━━━━━━\u001b[0m\u001b[37m\u001b[0m \u001b[1m4s\u001b[0m 21ms/step - loss: 0.0973 - val_loss: 0.0920\n",
            "Epoch 3/20\n",
            "\u001b[1m214/214\u001b[0m \u001b[32m━━━━━━━━━━━━━━━━━━━━\u001b[0m\u001b[37m\u001b[0m \u001b[1m3s\u001b[0m 16ms/step - loss: 0.0912 - val_loss: 0.0872\n",
            "Epoch 4/20\n",
            "\u001b[1m214/214\u001b[0m \u001b[32m━━━━━━━━━━━━━━━━━━━━\u001b[0m\u001b[37m\u001b[0m \u001b[1m5s\u001b[0m 16ms/step - loss: 0.0860 - val_loss: 0.0916\n",
            "Epoch 5/20\n",
            "\u001b[1m214/214\u001b[0m \u001b[32m━━━━━━━━━━━━━━━━━━━━\u001b[0m\u001b[37m\u001b[0m \u001b[1m5s\u001b[0m 23ms/step - loss: 0.0844 - val_loss: 0.0875\n",
            "Epoch 6/20\n",
            "\u001b[1m214/214\u001b[0m \u001b[32m━━━━━━━━━━━━━━━━━━━━\u001b[0m\u001b[37m\u001b[0m \u001b[1m3s\u001b[0m 16ms/step - loss: 0.0804 - val_loss: 0.0809\n",
            "Epoch 7/20\n",
            "\u001b[1m214/214\u001b[0m \u001b[32m━━━━━━━━━━━━━━━━━━━━\u001b[0m\u001b[37m\u001b[0m \u001b[1m3s\u001b[0m 16ms/step - loss: 0.0811 - val_loss: 0.0794\n",
            "Epoch 8/20\n",
            "\u001b[1m214/214\u001b[0m \u001b[32m━━━━━━━━━━━━━━━━━━━━\u001b[0m\u001b[37m\u001b[0m \u001b[1m6s\u001b[0m 21ms/step - loss: 0.0785 - val_loss: 0.0882\n",
            "Epoch 9/20\n",
            "\u001b[1m214/214\u001b[0m \u001b[32m━━━━━━━━━━━━━━━━━━━━\u001b[0m\u001b[37m\u001b[0m \u001b[1m4s\u001b[0m 16ms/step - loss: 0.0784 - val_loss: 0.0832\n",
            "Epoch 10/20\n",
            "\u001b[1m214/214\u001b[0m \u001b[32m━━━━━━━━━━━━━━━━━━━━\u001b[0m\u001b[37m\u001b[0m \u001b[1m3s\u001b[0m 16ms/step - loss: 0.0761 - val_loss: 0.0780\n",
            "Epoch 11/20\n",
            "\u001b[1m214/214\u001b[0m \u001b[32m━━━━━━━━━━━━━━━━━━━━\u001b[0m\u001b[37m\u001b[0m \u001b[1m6s\u001b[0m 22ms/step - loss: 0.0755 - val_loss: 0.0777\n",
            "Epoch 12/20\n",
            "\u001b[1m214/214\u001b[0m \u001b[32m━━━━━━━━━━━━━━━━━━━━\u001b[0m\u001b[37m\u001b[0m \u001b[1m4s\u001b[0m 16ms/step - loss: 0.0749 - val_loss: 0.0839\n",
            "Epoch 13/20\n",
            "\u001b[1m214/214\u001b[0m \u001b[32m━━━━━━━━━━━━━━━━━━━━\u001b[0m\u001b[37m\u001b[0m \u001b[1m3s\u001b[0m 16ms/step - loss: 0.0741 - val_loss: 0.0791\n",
            "Epoch 14/20\n",
            "\u001b[1m214/214\u001b[0m \u001b[32m━━━━━━━━━━━━━━━━━━━━\u001b[0m\u001b[37m\u001b[0m \u001b[1m6s\u001b[0m 20ms/step - loss: 0.0734 - val_loss: 0.0922\n",
            "Epoch 15/20\n",
            "\u001b[1m214/214\u001b[0m \u001b[32m━━━━━━━━━━━━━━━━━━━━\u001b[0m\u001b[37m\u001b[0m \u001b[1m4s\u001b[0m 18ms/step - loss: 0.0744 - val_loss: 0.0780\n",
            "Epoch 16/20\n",
            "\u001b[1m214/214\u001b[0m \u001b[32m━━━━━━━━━━━━━━━━━━━━\u001b[0m\u001b[37m\u001b[0m \u001b[1m7s\u001b[0m 29ms/step - loss: 0.0735 - val_loss: 0.0859\n",
            "Epoch 17/20\n",
            "\u001b[1m214/214\u001b[0m \u001b[32m━━━━━━━━━━━━━━━━━━━━\u001b[0m\u001b[37m\u001b[0m \u001b[1m8s\u001b[0m 16ms/step - loss: 0.0722 - val_loss: 0.0785\n",
            "Epoch 18/20\n",
            "\u001b[1m214/214\u001b[0m \u001b[32m━━━━━━━━━━━━━━━━━━━━\u001b[0m\u001b[37m\u001b[0m \u001b[1m6s\u001b[0m 21ms/step - loss: 0.0718 - val_loss: 0.0766\n",
            "Epoch 19/20\n",
            "\u001b[1m214/214\u001b[0m \u001b[32m━━━━━━━━━━━━━━━━━━━━\u001b[0m\u001b[37m\u001b[0m \u001b[1m4s\u001b[0m 16ms/step - loss: 0.0730 - val_loss: 0.0890\n",
            "Epoch 20/20\n",
            "\u001b[1m214/214\u001b[0m \u001b[32m━━━━━━━━━━━━━━━━━━━━\u001b[0m\u001b[37m\u001b[0m \u001b[1m4s\u001b[0m 16ms/step - loss: 0.0732 - val_loss: 0.0776\n"
          ]
        }
      ],
      "source": [
        "history = model.fit(X_train, y_train, epochs=20, batch_size=64, validation_split=0.2)"
      ]
    },
    {
      "cell_type": "code",
      "execution_count": 38,
      "metadata": {
        "id": "-7DlgquR1edn"
      },
      "outputs": [],
      "source": [
        "X_test = np.asarray(X_test).astype(np.float32)\n",
        "y_test = np.asarray(y_test).astype(np.float32)"
      ]
    },
    {
      "cell_type": "code",
      "execution_count": 39,
      "metadata": {
        "colab": {
          "base_uri": "https://localhost:8080/"
        },
        "id": "TAjXl9Lb1Ych",
        "outputId": "09c0435e-ce03-4337-dc53-85294609daf5"
      },
      "outputs": [
        {
          "name": "stdout",
          "output_type": "stream",
          "text": [
            "\u001b[1m20/20\u001b[0m \u001b[32m━━━━━━━━━━━━━━━━━━━━\u001b[0m\u001b[37m\u001b[0m \u001b[1m2s\u001b[0m 55ms/step\n"
          ]
        }
      ],
      "source": [
        "y_preds = model.predict(X_test)"
      ]
    },
    {
      "cell_type": "code",
      "execution_count": 41,
      "metadata": {
        "id": "NqtbgUTn5JHm"
      },
      "outputs": [],
      "source": [
        "from sklearn.metrics import mean_absolute_error, root_mean_squared_error, mean_absolute_percentage_error\n",
        "\n",
        "mae = mean_absolute_error(y_test, y_preds)\n",
        "rms = root_mean_squared_error(y_test, y_preds)\n",
        "mape = mean_absolute_percentage_error(y_test, y_preds)"
      ]
    },
    {
      "cell_type": "code",
      "execution_count": 42,
      "metadata": {
        "id": "Mvw5w2zBSoJc"
      },
      "outputs": [],
      "source": [
        "# accuracy = 1- mape"
      ]
    },
    {
      "cell_type": "code",
      "execution_count": 43,
      "metadata": {
        "colab": {
          "base_uri": "https://localhost:8080/"
        },
        "id": "bhangDzQ5Nln",
        "outputId": "d1d0d461-1f58-491a-fcbe-6050a41d936b"
      },
      "outputs": [
        {
          "data": {
            "text/plain": [
              "(0.06033661589026451, 0.0800967738032341)"
            ]
          },
          "execution_count": 43,
          "metadata": {},
          "output_type": "execute_result"
        }
      ],
      "source": [
        "mae, rms, #mape"
      ]
    },
    {
      "cell_type": "code",
      "execution_count": 44,
      "metadata": {
        "colab": {
          "base_uri": "https://localhost:8080/"
        },
        "id": "Dqig4OBRGZDl",
        "outputId": "57c01146-0cd4-4419-ed99-a306741c6780"
      },
      "outputs": [
        {
          "data": {
            "text/plain": [
              "0.7156637482216445"
            ]
          },
          "execution_count": 44,
          "metadata": {},
          "output_type": "execute_result"
        }
      ],
      "source": [
        "y_preds.sum()/y_preds.shape[0]"
      ]
    },
    {
      "cell_type": "code",
      "execution_count": 67,
      "metadata": {
        "id": "BQbkbZOqTx5E"
      },
      "outputs": [],
      "source": [
        "normalization_key = normalization_key.set_index(\"Symbol\")"
      ]
    },
    {
      "cell_type": "code",
      "execution_count": 68,
      "metadata": {
        "colab": {
          "base_uri": "https://localhost:8080/",
          "height": 455
        },
        "id": "Lg1tcxa_Xk_F",
        "outputId": "6e2e5edc-a0fd-46c0-91f6-0e98c015f544"
      },
      "outputs": [
        {
          "data": {
            "application/vnd.google.colaboratory.intrinsic+json": {
              "summary": "{\n  \"name\": \"normalization_key\",\n  \"rows\": 407,\n  \"fields\": [\n    {\n      \"column\": \"Symbol\",\n      \"properties\": {\n        \"dtype\": \"string\",\n        \"num_unique_values\": 407,\n        \"samples\": [\n          \"SJM\",\n          \"CPRT\",\n          \"RHI\"\n        ],\n        \"semantic_type\": \"\",\n        \"description\": \"\"\n      }\n    },\n    {\n      \"column\": \"Max\",\n      \"properties\": {\n        \"dtype\": \"number\",\n        \"std\": 457.71347137650054,\n        \"min\": 10.970000267028809,\n        \"max\": 7914.2998046875,\n        \"num_unique_values\": 405,\n        \"samples\": [\n          132.2100067138672,\n          58.06999969482422,\n          115.87000274658205\n        ],\n        \"semantic_type\": \"\",\n        \"description\": \"\"\n      }\n    },\n    {\n      \"column\": \"Min\",\n      \"properties\": {\n        \"dtype\": \"number\",\n        \"std\": 319.975010170524,\n        \"min\": 8.5600004196167,\n        \"max\": 5377.2900390625,\n        \"num_unique_values\": 404,\n        \"samples\": [\n          108.3499984741211,\n          42.619998931884766,\n          40.220001220703125\n        ],\n        \"semantic_type\": \"\",\n        \"description\": \"\"\n      }\n    }\n  ]\n}",
              "type": "dataframe",
              "variable_name": "normalization_key"
            },
            "text/html": [
              "\n",
              "  <div id=\"df-96d58a42-1926-4006-9923-d41a8ea5bdb2\" class=\"colab-df-container\">\n",
              "    <div>\n",
              "<style scoped>\n",
              "    .dataframe tbody tr th:only-of-type {\n",
              "        vertical-align: middle;\n",
              "    }\n",
              "\n",
              "    .dataframe tbody tr th {\n",
              "        vertical-align: top;\n",
              "    }\n",
              "\n",
              "    .dataframe thead th {\n",
              "        text-align: right;\n",
              "    }\n",
              "</style>\n",
              "<table border=\"1\" class=\"dataframe\">\n",
              "  <thead>\n",
              "    <tr style=\"text-align: right;\">\n",
              "      <th></th>\n",
              "      <th>Max</th>\n",
              "      <th>Min</th>\n",
              "    </tr>\n",
              "    <tr>\n",
              "      <th>Symbol</th>\n",
              "      <th></th>\n",
              "      <th></th>\n",
              "    </tr>\n",
              "  </thead>\n",
              "  <tbody>\n",
              "    <tr>\n",
              "      <th>CHTR</th>\n",
              "      <td>414.839996</td>\n",
              "      <td>275.690002</td>\n",
              "    </tr>\n",
              "    <tr>\n",
              "      <th>EA</th>\n",
              "      <td>143.080002</td>\n",
              "      <td>122.629997</td>\n",
              "    </tr>\n",
              "    <tr>\n",
              "      <th>FOX</th>\n",
              "      <td>29.799999</td>\n",
              "      <td>26.320000</td>\n",
              "    </tr>\n",
              "    <tr>\n",
              "      <th>FOXA</th>\n",
              "      <td>31.620001</td>\n",
              "      <td>28.780001</td>\n",
              "    </tr>\n",
              "    <tr>\n",
              "      <th>IPG</th>\n",
              "      <td>33.270000</td>\n",
              "      <td>27.559999</td>\n",
              "    </tr>\n",
              "    <tr>\n",
              "      <th>...</th>\n",
              "      <td>...</td>\n",
              "      <td>...</td>\n",
              "    </tr>\n",
              "    <tr>\n",
              "      <th>PPL</th>\n",
              "      <td>28.760000</td>\n",
              "      <td>22.549999</td>\n",
              "    </tr>\n",
              "    <tr>\n",
              "      <th>SO</th>\n",
              "      <td>73.080002</td>\n",
              "      <td>66.459999</td>\n",
              "    </tr>\n",
              "    <tr>\n",
              "      <th>SRE</th>\n",
              "      <td>76.489998</td>\n",
              "      <td>69.349998</td>\n",
              "    </tr>\n",
              "    <tr>\n",
              "      <th>WEC</th>\n",
              "      <td>95.940002</td>\n",
              "      <td>77.029999</td>\n",
              "    </tr>\n",
              "    <tr>\n",
              "      <th>XEL</th>\n",
              "      <td>63.730000</td>\n",
              "      <td>49.570000</td>\n",
              "    </tr>\n",
              "  </tbody>\n",
              "</table>\n",
              "<p>407 rows × 2 columns</p>\n",
              "</div>\n",
              "    <div class=\"colab-df-buttons\">\n",
              "\n",
              "  <div class=\"colab-df-container\">\n",
              "    <button class=\"colab-df-convert\" onclick=\"convertToInteractive('df-96d58a42-1926-4006-9923-d41a8ea5bdb2')\"\n",
              "            title=\"Convert this dataframe to an interactive table.\"\n",
              "            style=\"display:none;\">\n",
              "\n",
              "  <svg xmlns=\"http://www.w3.org/2000/svg\" height=\"24px\" viewBox=\"0 -960 960 960\">\n",
              "    <path d=\"M120-120v-720h720v720H120Zm60-500h600v-160H180v160Zm220 220h160v-160H400v160Zm0 220h160v-160H400v160ZM180-400h160v-160H180v160Zm440 0h160v-160H620v160ZM180-180h160v-160H180v160Zm440 0h160v-160H620v160Z\"/>\n",
              "  </svg>\n",
              "    </button>\n",
              "\n",
              "  <style>\n",
              "    .colab-df-container {\n",
              "      display:flex;\n",
              "      gap: 12px;\n",
              "    }\n",
              "\n",
              "    .colab-df-convert {\n",
              "      background-color: #E8F0FE;\n",
              "      border: none;\n",
              "      border-radius: 50%;\n",
              "      cursor: pointer;\n",
              "      display: none;\n",
              "      fill: #1967D2;\n",
              "      height: 32px;\n",
              "      padding: 0 0 0 0;\n",
              "      width: 32px;\n",
              "    }\n",
              "\n",
              "    .colab-df-convert:hover {\n",
              "      background-color: #E2EBFA;\n",
              "      box-shadow: 0px 1px 2px rgba(60, 64, 67, 0.3), 0px 1px 3px 1px rgba(60, 64, 67, 0.15);\n",
              "      fill: #174EA6;\n",
              "    }\n",
              "\n",
              "    .colab-df-buttons div {\n",
              "      margin-bottom: 4px;\n",
              "    }\n",
              "\n",
              "    [theme=dark] .colab-df-convert {\n",
              "      background-color: #3B4455;\n",
              "      fill: #D2E3FC;\n",
              "    }\n",
              "\n",
              "    [theme=dark] .colab-df-convert:hover {\n",
              "      background-color: #434B5C;\n",
              "      box-shadow: 0px 1px 3px 1px rgba(0, 0, 0, 0.15);\n",
              "      filter: drop-shadow(0px 1px 2px rgba(0, 0, 0, 0.3));\n",
              "      fill: #FFFFFF;\n",
              "    }\n",
              "  </style>\n",
              "\n",
              "    <script>\n",
              "      const buttonEl =\n",
              "        document.querySelector('#df-96d58a42-1926-4006-9923-d41a8ea5bdb2 button.colab-df-convert');\n",
              "      buttonEl.style.display =\n",
              "        google.colab.kernel.accessAllowed ? 'block' : 'none';\n",
              "\n",
              "      async function convertToInteractive(key) {\n",
              "        const element = document.querySelector('#df-96d58a42-1926-4006-9923-d41a8ea5bdb2');\n",
              "        const dataTable =\n",
              "          await google.colab.kernel.invokeFunction('convertToInteractive',\n",
              "                                                    [key], {});\n",
              "        if (!dataTable) return;\n",
              "\n",
              "        const docLinkHtml = 'Like what you see? Visit the ' +\n",
              "          '<a target=\"_blank\" href=https://colab.research.google.com/notebooks/data_table.ipynb>data table notebook</a>'\n",
              "          + ' to learn more about interactive tables.';\n",
              "        element.innerHTML = '';\n",
              "        dataTable['output_type'] = 'display_data';\n",
              "        await google.colab.output.renderOutput(dataTable, element);\n",
              "        const docLink = document.createElement('div');\n",
              "        docLink.innerHTML = docLinkHtml;\n",
              "        element.appendChild(docLink);\n",
              "      }\n",
              "    </script>\n",
              "  </div>\n",
              "\n",
              "\n",
              "<div id=\"df-6d0e0fdc-e265-49d2-8e89-1c8e2ac3b0db\">\n",
              "  <button class=\"colab-df-quickchart\" onclick=\"quickchart('df-6d0e0fdc-e265-49d2-8e89-1c8e2ac3b0db')\"\n",
              "            title=\"Suggest charts\"\n",
              "            style=\"display:none;\">\n",
              "\n",
              "<svg xmlns=\"http://www.w3.org/2000/svg\" height=\"24px\"viewBox=\"0 0 24 24\"\n",
              "     width=\"24px\">\n",
              "    <g>\n",
              "        <path d=\"M19 3H5c-1.1 0-2 .9-2 2v14c0 1.1.9 2 2 2h14c1.1 0 2-.9 2-2V5c0-1.1-.9-2-2-2zM9 17H7v-7h2v7zm4 0h-2V7h2v10zm4 0h-2v-4h2v4z\"/>\n",
              "    </g>\n",
              "</svg>\n",
              "  </button>\n",
              "\n",
              "<style>\n",
              "  .colab-df-quickchart {\n",
              "      --bg-color: #E8F0FE;\n",
              "      --fill-color: #1967D2;\n",
              "      --hover-bg-color: #E2EBFA;\n",
              "      --hover-fill-color: #174EA6;\n",
              "      --disabled-fill-color: #AAA;\n",
              "      --disabled-bg-color: #DDD;\n",
              "  }\n",
              "\n",
              "  [theme=dark] .colab-df-quickchart {\n",
              "      --bg-color: #3B4455;\n",
              "      --fill-color: #D2E3FC;\n",
              "      --hover-bg-color: #434B5C;\n",
              "      --hover-fill-color: #FFFFFF;\n",
              "      --disabled-bg-color: #3B4455;\n",
              "      --disabled-fill-color: #666;\n",
              "  }\n",
              "\n",
              "  .colab-df-quickchart {\n",
              "    background-color: var(--bg-color);\n",
              "    border: none;\n",
              "    border-radius: 50%;\n",
              "    cursor: pointer;\n",
              "    display: none;\n",
              "    fill: var(--fill-color);\n",
              "    height: 32px;\n",
              "    padding: 0;\n",
              "    width: 32px;\n",
              "  }\n",
              "\n",
              "  .colab-df-quickchart:hover {\n",
              "    background-color: var(--hover-bg-color);\n",
              "    box-shadow: 0 1px 2px rgba(60, 64, 67, 0.3), 0 1px 3px 1px rgba(60, 64, 67, 0.15);\n",
              "    fill: var(--button-hover-fill-color);\n",
              "  }\n",
              "\n",
              "  .colab-df-quickchart-complete:disabled,\n",
              "  .colab-df-quickchart-complete:disabled:hover {\n",
              "    background-color: var(--disabled-bg-color);\n",
              "    fill: var(--disabled-fill-color);\n",
              "    box-shadow: none;\n",
              "  }\n",
              "\n",
              "  .colab-df-spinner {\n",
              "    border: 2px solid var(--fill-color);\n",
              "    border-color: transparent;\n",
              "    border-bottom-color: var(--fill-color);\n",
              "    animation:\n",
              "      spin 1s steps(1) infinite;\n",
              "  }\n",
              "\n",
              "  @keyframes spin {\n",
              "    0% {\n",
              "      border-color: transparent;\n",
              "      border-bottom-color: var(--fill-color);\n",
              "      border-left-color: var(--fill-color);\n",
              "    }\n",
              "    20% {\n",
              "      border-color: transparent;\n",
              "      border-left-color: var(--fill-color);\n",
              "      border-top-color: var(--fill-color);\n",
              "    }\n",
              "    30% {\n",
              "      border-color: transparent;\n",
              "      border-left-color: var(--fill-color);\n",
              "      border-top-color: var(--fill-color);\n",
              "      border-right-color: var(--fill-color);\n",
              "    }\n",
              "    40% {\n",
              "      border-color: transparent;\n",
              "      border-right-color: var(--fill-color);\n",
              "      border-top-color: var(--fill-color);\n",
              "    }\n",
              "    60% {\n",
              "      border-color: transparent;\n",
              "      border-right-color: var(--fill-color);\n",
              "    }\n",
              "    80% {\n",
              "      border-color: transparent;\n",
              "      border-right-color: var(--fill-color);\n",
              "      border-bottom-color: var(--fill-color);\n",
              "    }\n",
              "    90% {\n",
              "      border-color: transparent;\n",
              "      border-bottom-color: var(--fill-color);\n",
              "    }\n",
              "  }\n",
              "</style>\n",
              "\n",
              "  <script>\n",
              "    async function quickchart(key) {\n",
              "      const quickchartButtonEl =\n",
              "        document.querySelector('#' + key + ' button');\n",
              "      quickchartButtonEl.disabled = true;  // To prevent multiple clicks.\n",
              "      quickchartButtonEl.classList.add('colab-df-spinner');\n",
              "      try {\n",
              "        const charts = await google.colab.kernel.invokeFunction(\n",
              "            'suggestCharts', [key], {});\n",
              "      } catch (error) {\n",
              "        console.error('Error during call to suggestCharts:', error);\n",
              "      }\n",
              "      quickchartButtonEl.classList.remove('colab-df-spinner');\n",
              "      quickchartButtonEl.classList.add('colab-df-quickchart-complete');\n",
              "    }\n",
              "    (() => {\n",
              "      let quickchartButtonEl =\n",
              "        document.querySelector('#df-6d0e0fdc-e265-49d2-8e89-1c8e2ac3b0db button');\n",
              "      quickchartButtonEl.style.display =\n",
              "        google.colab.kernel.accessAllowed ? 'block' : 'none';\n",
              "    })();\n",
              "  </script>\n",
              "</div>\n",
              "\n",
              "  <div id=\"id_d81ce449-00df-427c-8d58-a3f894e4cef3\">\n",
              "    <style>\n",
              "      .colab-df-generate {\n",
              "        background-color: #E8F0FE;\n",
              "        border: none;\n",
              "        border-radius: 50%;\n",
              "        cursor: pointer;\n",
              "        display: none;\n",
              "        fill: #1967D2;\n",
              "        height: 32px;\n",
              "        padding: 0 0 0 0;\n",
              "        width: 32px;\n",
              "      }\n",
              "\n",
              "      .colab-df-generate:hover {\n",
              "        background-color: #E2EBFA;\n",
              "        box-shadow: 0px 1px 2px rgba(60, 64, 67, 0.3), 0px 1px 3px 1px rgba(60, 64, 67, 0.15);\n",
              "        fill: #174EA6;\n",
              "      }\n",
              "\n",
              "      [theme=dark] .colab-df-generate {\n",
              "        background-color: #3B4455;\n",
              "        fill: #D2E3FC;\n",
              "      }\n",
              "\n",
              "      [theme=dark] .colab-df-generate:hover {\n",
              "        background-color: #434B5C;\n",
              "        box-shadow: 0px 1px 3px 1px rgba(0, 0, 0, 0.15);\n",
              "        filter: drop-shadow(0px 1px 2px rgba(0, 0, 0, 0.3));\n",
              "        fill: #FFFFFF;\n",
              "      }\n",
              "    </style>\n",
              "    <button class=\"colab-df-generate\" onclick=\"generateWithVariable('normalization_key')\"\n",
              "            title=\"Generate code using this dataframe.\"\n",
              "            style=\"display:none;\">\n",
              "\n",
              "  <svg xmlns=\"http://www.w3.org/2000/svg\" height=\"24px\"viewBox=\"0 0 24 24\"\n",
              "       width=\"24px\">\n",
              "    <path d=\"M7,19H8.4L18.45,9,17,7.55,7,17.6ZM5,21V16.75L18.45,3.32a2,2,0,0,1,2.83,0l1.4,1.43a1.91,1.91,0,0,1,.58,1.4,1.91,1.91,0,0,1-.58,1.4L9.25,21ZM18.45,9,17,7.55Zm-12,3A5.31,5.31,0,0,0,4.9,8.1,5.31,5.31,0,0,0,1,6.5,5.31,5.31,0,0,0,4.9,4.9,5.31,5.31,0,0,0,6.5,1,5.31,5.31,0,0,0,8.1,4.9,5.31,5.31,0,0,0,12,6.5,5.46,5.46,0,0,0,6.5,12Z\"/>\n",
              "  </svg>\n",
              "    </button>\n",
              "    <script>\n",
              "      (() => {\n",
              "      const buttonEl =\n",
              "        document.querySelector('#id_d81ce449-00df-427c-8d58-a3f894e4cef3 button.colab-df-generate');\n",
              "      buttonEl.style.display =\n",
              "        google.colab.kernel.accessAllowed ? 'block' : 'none';\n",
              "\n",
              "      buttonEl.onclick = () => {\n",
              "        google.colab.notebook.generateWithVariable('normalization_key');\n",
              "      }\n",
              "      })();\n",
              "    </script>\n",
              "  </div>\n",
              "\n",
              "    </div>\n",
              "  </div>\n"
            ],
            "text/plain": [
              "               Max         Min\n",
              "Symbol                        \n",
              "CHTR    414.839996  275.690002\n",
              "EA      143.080002  122.629997\n",
              "FOX      29.799999   26.320000\n",
              "FOXA     31.620001   28.780001\n",
              "IPG      33.270000   27.559999\n",
              "...            ...         ...\n",
              "PPL      28.760000   22.549999\n",
              "SO       73.080002   66.459999\n",
              "SRE      76.489998   69.349998\n",
              "WEC      95.940002   77.029999\n",
              "XEL      63.730000   49.570000\n",
              "\n",
              "[407 rows x 2 columns]"
            ]
          },
          "execution_count": 68,
          "metadata": {},
          "output_type": "execute_result"
        }
      ],
      "source": [
        "normalization_key"
      ]
    },
    {
      "cell_type": "code",
      "execution_count": 69,
      "metadata": {
        "id": "UvxgHFM5VQfW"
      },
      "outputs": [],
      "source": [
        "# train_symbols"
      ]
    },
    {
      "cell_type": "code",
      "execution_count": 70,
      "metadata": {
        "id": "0_r3AXq8VRg3"
      },
      "outputs": [],
      "source": [
        "# test_symbols"
      ]
    },
    {
      "cell_type": "code",
      "execution_count": 71,
      "metadata": {
        "id": "g97pbV3yYJWb"
      },
      "outputs": [],
      "source": [
        "y_pred_unn = []"
      ]
    },
    {
      "cell_type": "code",
      "execution_count": 72,
      "metadata": {
        "colab": {
          "base_uri": "https://localhost:8080/"
        },
        "id": "Akwa3Cl5YQSK",
        "outputId": "2001abbd-886c-4137-ec6c-c7b762e5fa7b"
      },
      "outputs": [
        {
          "data": {
            "text/plain": [
              "(637, 1)"
            ]
          },
          "execution_count": 72,
          "metadata": {},
          "output_type": "execute_result"
        }
      ],
      "source": [
        "y_preds.shape"
      ]
    },
    {
      "cell_type": "code",
      "execution_count": 73,
      "metadata": {
        "colab": {
          "base_uri": "https://localhost:8080/"
        },
        "id": "cAb-cqqyW4QK",
        "outputId": "cf7df1ea-60b5-4491-baa5-d213c690686f"
      },
      "outputs": [
        {
          "name": "stderr",
          "output_type": "stream",
          "text": [
            "<ipython-input-73-587594921f9b>:4: DeprecationWarning: Conversion of an array with ndim > 0 to a scalar is deprecated, and will error in future. Ensure you extract a single element from your array before performing this operation. (Deprecated NumPy 1.25.)\n",
            "  y_pred_unn.append(float(y_preds[i] * (max - min) + min))\n"
          ]
        }
      ],
      "source": [
        "for i in range(len(y_preds)):\n",
        "  max = normalization_key.loc[test_symbols[i], \"Max\"]\n",
        "  min = normalization_key.loc[test_symbols[i], \"Min\"]\n",
        "  y_pred_unn.append(float(y_preds[i] * (max - min) + min))"
      ]
    },
    {
      "cell_type": "code",
      "execution_count": 74,
      "metadata": {
        "colab": {
          "base_uri": "https://localhost:8080/"
        },
        "id": "BsqIjFfpYLH5",
        "outputId": "3098ea99-773f-4666-ee0f-d15e477523c6"
      },
      "outputs": [
        {
          "data": {
            "text/plain": [
              "637"
            ]
          },
          "execution_count": 74,
          "metadata": {},
          "output_type": "execute_result"
        }
      ],
      "source": [
        "len(y_pred_unn)"
      ]
    },
    {
      "cell_type": "code",
      "execution_count": 75,
      "metadata": {
        "id": "I2l66t4BYs-b"
      },
      "outputs": [],
      "source": [
        "# y_pred_unn"
      ]
    },
    {
      "cell_type": "code",
      "execution_count": 76,
      "metadata": {
        "id": "9z3F1PlsY55l"
      },
      "outputs": [],
      "source": [
        "y_test_unn = []"
      ]
    },
    {
      "cell_type": "code",
      "execution_count": 77,
      "metadata": {
        "colab": {
          "base_uri": "https://localhost:8080/"
        },
        "id": "FnJFqcPAZUvc",
        "outputId": "415a6fcc-dd97-48e8-8998-94946658834d"
      },
      "outputs": [
        {
          "data": {
            "text/plain": [
              "637"
            ]
          },
          "execution_count": 77,
          "metadata": {},
          "output_type": "execute_result"
        }
      ],
      "source": [
        "len(y_test)"
      ]
    },
    {
      "cell_type": "code",
      "execution_count": 78,
      "metadata": {
        "id": "FObIPQDmY8c4"
      },
      "outputs": [],
      "source": [
        "for i in range(len(y_test)):\n",
        "  max = normalization_key.loc[test_symbols[i], \"Max\"]\n",
        "  min = normalization_key.loc[test_symbols[i], \"Min\"]\n",
        "  y_test_unn.append(float(y_test[i] * (max - min) + min))"
      ]
    },
    {
      "cell_type": "code",
      "execution_count": 79,
      "metadata": {
        "id": "g29zEZJ-Y_4x"
      },
      "outputs": [],
      "source": [
        "# y_test_unn"
      ]
    },
    {
      "cell_type": "code",
      "execution_count": 81,
      "metadata": {
        "id": "DGR2FmX0ZEiw"
      },
      "outputs": [],
      "source": [
        "mae = mean_absolute_error(y_test_unn, y_pred_unn)\n",
        "rms = root_mean_squared_error(y_test_unn, y_pred_unn)\n",
        "mape = mean_absolute_percentage_error(y_test_unn, y_pred_unn)"
      ]
    },
    {
      "cell_type": "code",
      "execution_count": 82,
      "metadata": {
        "colab": {
          "base_uri": "https://localhost:8080/"
        },
        "id": "R__5r1upZLKS",
        "outputId": "f69cb068-b72d-4536-e49e-2a311ac71c4b"
      },
      "outputs": [
        {
          "data": {
            "text/plain": [
              "(3.7652646597023245, 0.016895473263960244, 13.224508936281593)"
            ]
          },
          "execution_count": 82,
          "metadata": {},
          "output_type": "execute_result"
        }
      ],
      "source": [
        "mae, mape, rms"
      ]
    },
    {
      "cell_type": "code",
      "execution_count": 83,
      "metadata": {
        "id": "U0QkSDGfZk3S"
      },
      "outputs": [],
      "source": [
        "import matplotlib.pyplot as plt"
      ]
    },
    {
      "cell_type": "code",
      "execution_count": 84,
      "metadata": {
        "id": "fXup7jZFaz7A"
      },
      "outputs": [],
      "source": [
        "df = pd.DataFrame(columns=[\"Symbol\", \"True\", \"Preds\"])\n",
        "for i in range (len(test_symbols)):\n",
        "  df.loc[i] = [test_symbols[i], y_test_unn[i], y_pred_unn[i]]"
      ]
    },
    {
      "cell_type": "code",
      "execution_count": 85,
      "metadata": {
        "id": "Vv1T2aemcaz6"
      },
      "outputs": [],
      "source": [
        "df = df.set_index(\"Symbol\")"
      ]
    },
    {
      "cell_type": "code",
      "execution_count": 86,
      "metadata": {
        "colab": {
          "base_uri": "https://localhost:8080/"
        },
        "id": "J-0g4PLwco8K",
        "outputId": "5973e46d-9fd2-43cc-a40f-33eccb0c3020"
      },
      "outputs": [
        {
          "data": {
            "text/plain": [
              "Index(['EA', 'IPG', 'NWS', 'OMC', 'APTV', 'BBWI', 'BWA', 'DPZ', 'GPC', 'GRMN',\n",
              "       ...\n",
              "       'NI', 'NRG', 'PCG', 'PEG', 'PNW', 'PPL', 'SO', 'SRE', 'WEC', 'XEL'],\n",
              "      dtype='object', name='Symbol', length=271)"
            ]
          },
          "execution_count": 86,
          "metadata": {},
          "output_type": "execute_result"
        }
      ],
      "source": [
        "df.index.unique()"
      ]
    },
    {
      "cell_type": "code",
      "execution_count": 122,
      "metadata": {
        "colab": {
          "base_uri": "https://localhost:8080/",
          "height": 430
        },
        "id": "Lfy-hfewdjXK",
        "outputId": "ec774f9f-84b6-44df-a1c2-e54e2d4ef469"
      },
      "outputs": [
        {
          "data": {
            "image/png": "[encoded data removed]",
            "text/plain": [
              "<Figure size 640x480 with 1 Axes>"
            ]
          },
          "metadata": {},
          "output_type": "display_data"
        }
      ],
      "source": [
        "for symbol in df.index.unique()[:10]:#4, 5,\n",
        "  try:\n",
        "    len(df.loc[symbol])\n",
        "    plt.plot(range(len(df.loc[symbol, \"True\"])), df.loc[symbol, \"True\"])\n",
        "    plt.plot(range(len(df.loc[symbol, \"Preds\"])), df.loc[symbol, \"Preds\"])\n",
        "  except:\n",
        "    pass\n",
        "plt.show()"
      ]
    }
  ],
  "metadata": {
    "accelerator": "GPU",
    "colab": {
      "collapsed_sections": [
        "4sS4P0e20g_j",
        "vdFId1OITdrQ",
        "il0A6xTVrmpk",
        "FBNotbaH0cln",
        "CRyzWHno2JHb"
      ],
      "gpuType": "T4",
      "provenance": []
    },
    "kernelspec": {
      "display_name": "Python 3",
      "name": "python3"
    },
    "language_info": {
      "name": "python"
    },
    "widgets": {
      "application/vnd.jupyter.widget-state+json": {
        "002e711bc1b84643ac35177efa1ae5e6": {
          "model_module": "@jupyter-widgets/controls",
          "model_module_version": "1.5.0",
          "model_name": "ProgressStyleModel",
          "state": {
            "_model_module": "@jupyter-widgets/controls",
            "_model_module_version": "1.5.0",
            "_model_name": "ProgressStyleModel",
            "_view_count": null,
            "_view_module": "@jupyter-widgets/base",
            "_view_module_version": "1.2.0",
            "_view_name": "StyleView",
            "bar_color": null,
            "description_width": ""
          }
        },
        "16c4dd7597af4c43bb906eb16318f815": {
          "model_module": "@jupyter-widgets/base",
          "model_module_version": "1.2.0",
          "model_name": "LayoutModel",
          "state": {
            "_model_module": "@jupyter-widgets/base",
            "_model_module_version": "1.2.0",
            "_model_name": "LayoutModel",
            "_view_count": null,
            "_view_module": "@jupyter-widgets/base",
            "_view_module_version": "1.2.0",
            "_view_name": "LayoutView",
            "align_content": null,
            "align_items": null,
            "align_self": null,
            "border": null,
            "bottom": null,
            "display": null,
            "flex": null,
            "flex_flow": null,
            "grid_area": null,
            "grid_auto_columns": null,
            "grid_auto_flow": null,
            "grid_auto_rows": null,
            "grid_column": null,
            "grid_gap": null,
            "grid_row": null,
            "grid_template_areas": null,
            "grid_template_columns": null,
            "grid_template_rows": null,
            "height": null,
            "justify_content": null,
            "justify_items": null,
            "left": null,
            "margin": null,
            "max_height": null,
            "max_width": null,
            "min_height": null,
            "min_width": null,
            "object_fit": null,
            "object_position": null,
            "order": null,
            "overflow": null,
            "overflow_x": null,
            "overflow_y": null,
            "padding": null,
            "right": null,
            "top": null,
            "visibility": null,
            "width": null
          }
        },
        "199c6bd47f4c471c8a667faef2332296": {
          "model_module": "@jupyter-widgets/controls",
          "model_module_version": "1.5.0",
          "model_name": "DescriptionStyleModel",
          "state": {
            "_model_module": "@jupyter-widgets/controls",
            "_model_module_version": "1.5.0",
            "_model_name": "DescriptionStyleModel",
            "_view_count": null,
            "_view_module": "@jupyter-widgets/base",
            "_view_module_version": "1.2.0",
            "_view_name": "StyleView",
            "description_width": ""
          }
        },
        "207d168d78504450903c8bfbcdcf6070": {
          "model_module": "@jupyter-widgets/base",
          "model_module_version": "1.2.0",
          "model_name": "LayoutModel",
          "state": {
            "_model_module": "@jupyter-widgets/base",
            "_model_module_version": "1.2.0",
            "_model_name": "LayoutModel",
            "_view_count": null,
            "_view_module": "@jupyter-widgets/base",
            "_view_module_version": "1.2.0",
            "_view_name": "LayoutView",
            "align_content": null,
            "align_items": null,
            "align_self": null,
            "border": null,
            "bottom": null,
            "display": null,
            "flex": null,
            "flex_flow": null,
            "grid_area": null,
            "grid_auto_columns": null,
            "grid_auto_flow": null,
            "grid_auto_rows": null,
            "grid_column": null,
            "grid_gap": null,
            "grid_row": null,
            "grid_template_areas": null,
            "grid_template_columns": null,
            "grid_template_rows": null,
            "height": null,
            "justify_content": null,
            "justify_items": null,
            "left": null,
            "margin": null,
            "max_height": null,
            "max_width": null,
            "min_height": null,
            "min_width": null,
            "object_fit": null,
            "object_position": null,
            "order": null,
            "overflow": null,
            "overflow_x": null,
            "overflow_y": null,
            "padding": null,
            "right": null,
            "top": null,
            "visibility": null,
            "width": null
          }
        },
        "21956de608f24ef18627eb8917cf3444": {
          "model_module": "@jupyter-widgets/base",
          "model_module_version": "1.2.0",
          "model_name": "LayoutModel",
          "state": {
            "_model_module": "@jupyter-widgets/base",
            "_model_module_version": "1.2.0",
            "_model_name": "LayoutModel",
            "_view_count": null,
            "_view_module": "@jupyter-widgets/base",
            "_view_module_version": "1.2.0",
            "_view_name": "LayoutView",
            "align_content": null,
            "align_items": null,
            "align_self": null,
            "border": null,
            "bottom": null,
            "display": null,
            "flex": null,
            "flex_flow": null,
            "grid_area": null,
            "grid_auto_columns": null,
            "grid_auto_flow": null,
            "grid_auto_rows": null,
            "grid_column": null,
            "grid_gap": null,
            "grid_row": null,
            "grid_template_areas": null,
            "grid_template_columns": null,
            "grid_template_rows": null,
            "height": null,
            "justify_content": null,
            "justify_items": null,
            "left": null,
            "margin": null,
            "max_height": null,
            "max_width": null,
            "min_height": null,
            "min_width": null,
            "object_fit": null,
            "object_position": null,
            "order": null,
            "overflow": null,
            "overflow_x": null,
            "overflow_y": null,
            "padding": null,
            "right": null,
            "top": null,
            "visibility": null,
            "width": null
          }
        },
        "229d4e15e32e4621accd7a7fbbea3faa": {
          "model_module": "@jupyter-widgets/controls",
          "model_module_version": "1.5.0",
          "model_name": "HBoxModel",
          "state": {
            "_dom_classes": [],
            "_model_module": "@jupyter-widgets/controls",
            "_model_module_version": "1.5.0",
            "_model_name": "HBoxModel",
            "_view_count": null,
            "_view_module": "@jupyter-widgets/controls",
            "_view_module_version": "1.5.0",
            "_view_name": "HBoxView",
            "box_style": "",
            "children": [
              "IPY_MODEL_ac13ae2c46564b259e42447b860fadd3",
              "IPY_MODEL_883d427ab2094285aa141b7dec183189",
              "IPY_MODEL_28123bfed17840dca37c69d7f7b69869"
            ],
            "layout": "IPY_MODEL_b1b6c1ee8bf04b31b540a143ef3735cd"
          }
        },
        "264222ee7b584178a5ff01a13ed5eb6f": {
          "model_module": "@jupyter-widgets/base",
          "model_module_version": "1.2.0",
          "model_name": "LayoutModel",
          "state": {
            "_model_module": "@jupyter-widgets/base",
            "_model_module_version": "1.2.0",
            "_model_name": "LayoutModel",
            "_view_count": null,
            "_view_module": "@jupyter-widgets/base",
            "_view_module_version": "1.2.0",
            "_view_name": "LayoutView",
            "align_content": null,
            "align_items": null,
            "align_self": null,
            "border": null,
            "bottom": null,
            "display": null,
            "flex": null,
            "flex_flow": null,
            "grid_area": null,
            "grid_auto_columns": null,
            "grid_auto_flow": null,
            "grid_auto_rows": null,
            "grid_column": null,
            "grid_gap": null,
            "grid_row": null,
            "grid_template_areas": null,
            "grid_template_columns": null,
            "grid_template_rows": null,
            "height": null,
            "justify_content": null,
            "justify_items": null,
            "left": null,
            "margin": null,
            "max_height": null,
            "max_width": null,
            "min_height": null,
            "min_width": null,
            "object_fit": null,
            "object_position": null,
            "order": null,
            "overflow": null,
            "overflow_x": null,
            "overflow_y": null,
            "padding": null,
            "right": null,
            "top": null,
            "visibility": null,
            "width": null
          }
        },
        "26e49dd44da34e7fa35f57593afe3d9d": {
          "model_module": "@jupyter-widgets/base",
          "model_module_version": "1.2.0",
          "model_name": "LayoutModel",
          "state": {
            "_model_module": "@jupyter-widgets/base",
            "_model_module_version": "1.2.0",
            "_model_name": "LayoutModel",
            "_view_count": null,
            "_view_module": "@jupyter-widgets/base",
            "_view_module_version": "1.2.0",
            "_view_name": "LayoutView",
            "align_content": null,
            "align_items": null,
            "align_self": null,
            "border": null,
            "bottom": null,
            "display": null,
            "flex": null,
            "flex_flow": null,
            "grid_area": null,
            "grid_auto_columns": null,
            "grid_auto_flow": null,
            "grid_auto_rows": null,
            "grid_column": null,
            "grid_gap": null,
            "grid_row": null,
            "grid_template_areas": null,
            "grid_template_columns": null,
            "grid_template_rows": null,
            "height": null,
            "justify_content": null,
            "justify_items": null,
            "left": null,
            "margin": null,
            "max_height": null,
            "max_width": null,
            "min_height": null,
            "min_width": null,
            "object_fit": null,
            "object_position": null,
            "order": null,
            "overflow": null,
            "overflow_x": null,
            "overflow_y": null,
            "padding": null,
            "right": null,
            "top": null,
            "visibility": null,
            "width": null
          }
        },
        "28123bfed17840dca37c69d7f7b69869": {
          "model_module": "@jupyter-widgets/controls",
          "model_module_version": "1.5.0",
          "model_name": "HTMLModel",
          "state": {
            "_dom_classes": [],
            "_model_module": "@jupyter-widgets/controls",
            "_model_module_version": "1.5.0",
            "_model_name": "HTMLModel",
            "_view_count": null,
            "_view_module": "@jupyter-widgets/controls",
            "_view_module_version": "1.5.0",
            "_view_name": "HTMLView",
            "description": "",
            "description_tooltip": null,
            "layout": "IPY_MODEL_207d168d78504450903c8bfbcdcf6070",
            "placeholder": "​",
            "style": "IPY_MODEL_cea6e5ae51aa4e22bc3e46396f9452e5",
            "value": " 439M/439M [00:06&lt;00:00, 96.1MB/s]"
          }
        },
        "2926f5309cd04d18a5dacc14bd0c615b": {
          "model_module": "@jupyter-widgets/base",
          "model_module_version": "1.2.0",
          "model_name": "LayoutModel",
          "state": {
            "_model_module": "@jupyter-widgets/base",
            "_model_module_version": "1.2.0",
            "_model_name": "LayoutModel",
            "_view_count": null,
            "_view_module": "@jupyter-widgets/base",
            "_view_module_version": "1.2.0",
            "_view_name": "LayoutView",
            "align_content": null,
            "align_items": null,
            "align_self": null,
            "border": null,
            "bottom": null,
            "display": null,
            "flex": null,
            "flex_flow": null,
            "grid_area": null,
            "grid_auto_columns": null,
            "grid_auto_flow": null,
            "grid_auto_rows": null,
            "grid_column": null,
            "grid_gap": null,
            "grid_row": null,
            "grid_template_areas": null,
            "grid_template_columns": null,
            "grid_template_rows": null,
            "height": null,
            "justify_content": null,
            "justify_items": null,
            "left": null,
            "margin": null,
            "max_height": null,
            "max_width": null,
            "min_height": null,
            "min_width": null,
            "object_fit": null,
            "object_position": null,
            "order": null,
            "overflow": null,
            "overflow_x": null,
            "overflow_y": null,
            "padding": null,
            "right": null,
            "top": null,
            "visibility": null,
            "width": null
          }
        },
        "2ce964f60569443fad2d6b9bcd1e12e6": {
          "model_module": "@jupyter-widgets/base",
          "model_module_version": "1.2.0",
          "model_name": "LayoutModel",
          "state": {
            "_model_module": "@jupyter-widgets/base",
            "_model_module_version": "1.2.0",
            "_model_name": "LayoutModel",
            "_view_count": null,
            "_view_module": "@jupyter-widgets/base",
            "_view_module_version": "1.2.0",
            "_view_name": "LayoutView",
            "align_content": null,
            "align_items": null,
            "align_self": null,
            "border": null,
            "bottom": null,
            "display": null,
            "flex": null,
            "flex_flow": null,
            "grid_area": null,
            "grid_auto_columns": null,
            "grid_auto_flow": null,
            "grid_auto_rows": null,
            "grid_column": null,
            "grid_gap": null,
            "grid_row": null,
            "grid_template_areas": null,
            "grid_template_columns": null,
            "grid_template_rows": null,
            "height": null,
            "justify_content": null,
            "justify_items": null,
            "left": null,
            "margin": null,
            "max_height": null,
            "max_width": null,
            "min_height": null,
            "min_width": null,
            "object_fit": null,
            "object_position": null,
            "order": null,
            "overflow": null,
            "overflow_x": null,
            "overflow_y": null,
            "padding": null,
            "right": null,
            "top": null,
            "visibility": null,
            "width": null
          }
        },
        "48f8e8b6b9634313981ee024051792dc": {
          "model_module": "@jupyter-widgets/controls",
          "model_module_version": "1.5.0",
          "model_name": "DescriptionStyleModel",
          "state": {
            "_model_module": "@jupyter-widgets/controls",
            "_model_module_version": "1.5.0",
            "_model_name": "DescriptionStyleModel",
            "_view_count": null,
            "_view_module": "@jupyter-widgets/base",
            "_view_module_version": "1.2.0",
            "_view_name": "StyleView",
            "description_width": ""
          }
        },
        "4c70058db96e4062bc35fd3f3ef530fd": {
          "model_module": "@jupyter-widgets/controls",
          "model_module_version": "1.5.0",
          "model_name": "FloatProgressModel",
          "state": {
            "_dom_classes": [],
            "_model_module": "@jupyter-widgets/controls",
            "_model_module_version": "1.5.0",
            "_model_name": "FloatProgressModel",
            "_view_count": null,
            "_view_module": "@jupyter-widgets/controls",
            "_view_module_version": "1.5.0",
            "_view_name": "ProgressView",
            "bar_style": "success",
            "description": "",
            "description_tooltip": null,
            "layout": "IPY_MODEL_21956de608f24ef18627eb8917cf3444",
            "max": 226122,
            "min": 0,
            "orientation": "horizontal",
            "style": "IPY_MODEL_855e14068b2843b2b2510565150d5e56",
            "value": 226122
          }
        },
        "4e3e384330cc41219e50dcb2119058b3": {
          "model_module": "@jupyter-widgets/controls",
          "model_module_version": "1.5.0",
          "model_name": "FloatProgressModel",
          "state": {
            "_dom_classes": [],
            "_model_module": "@jupyter-widgets/controls",
            "_model_module_version": "1.5.0",
            "_model_name": "FloatProgressModel",
            "_view_count": null,
            "_view_module": "@jupyter-widgets/controls",
            "_view_module_version": "1.5.0",
            "_view_name": "ProgressView",
            "bar_style": "success",
            "description": "",
            "description_tooltip": null,
            "layout": "IPY_MODEL_26e49dd44da34e7fa35f57593afe3d9d",
            "max": 533,
            "min": 0,
            "orientation": "horizontal",
            "style": "IPY_MODEL_002e711bc1b84643ac35177efa1ae5e6",
            "value": 533
          }
        },
        "5528112196c34636aad62b666fa3ee00": {
          "model_module": "@jupyter-widgets/base",
          "model_module_version": "1.2.0",
          "model_name": "LayoutModel",
          "state": {
            "_model_module": "@jupyter-widgets/base",
            "_model_module_version": "1.2.0",
            "_model_name": "LayoutModel",
            "_view_count": null,
            "_view_module": "@jupyter-widgets/base",
            "_view_module_version": "1.2.0",
            "_view_name": "LayoutView",
            "align_content": null,
            "align_items": null,
            "align_self": null,
            "border": null,
            "bottom": null,
            "display": null,
            "flex": null,
            "flex_flow": null,
            "grid_area": null,
            "grid_auto_columns": null,
            "grid_auto_flow": null,
            "grid_auto_rows": null,
            "grid_column": null,
            "grid_gap": null,
            "grid_row": null,
            "grid_template_areas": null,
            "grid_template_columns": null,
            "grid_template_rows": null,
            "height": null,
            "justify_content": null,
            "justify_items": null,
            "left": null,
            "margin": null,
            "max_height": null,
            "max_width": null,
            "min_height": null,
            "min_width": null,
            "object_fit": null,
            "object_position": null,
            "order": null,
            "overflow": null,
            "overflow_x": null,
            "overflow_y": null,
            "padding": null,
            "right": null,
            "top": null,
            "visibility": null,
            "width": null
          }
        },
        "61d6295708da499ea991b816460a5e8e": {
          "model_module": "@jupyter-widgets/base",
          "model_module_version": "1.2.0",
          "model_name": "LayoutModel",
          "state": {
            "_model_module": "@jupyter-widgets/base",
            "_model_module_version": "1.2.0",
            "_model_name": "LayoutModel",
            "_view_count": null,
            "_view_module": "@jupyter-widgets/base",
            "_view_module_version": "1.2.0",
            "_view_name": "LayoutView",
            "align_content": null,
            "align_items": null,
            "align_self": null,
            "border": null,
            "bottom": null,
            "display": null,
            "flex": null,
            "flex_flow": null,
            "grid_area": null,
            "grid_auto_columns": null,
            "grid_auto_flow": null,
            "grid_auto_rows": null,
            "grid_column": null,
            "grid_gap": null,
            "grid_row": null,
            "grid_template_areas": null,
            "grid_template_columns": null,
            "grid_template_rows": null,
            "height": null,
            "justify_content": null,
            "justify_items": null,
            "left": null,
            "margin": null,
            "max_height": null,
            "max_width": null,
            "min_height": null,
            "min_width": null,
            "object_fit": null,
            "object_position": null,
            "order": null,
            "overflow": null,
            "overflow_x": null,
            "overflow_y": null,
            "padding": null,
            "right": null,
            "top": null,
            "visibility": null,
            "width": null
          }
        },
        "748d80d517e2484696c4ce6a9266c3a3": {
          "model_module": "@jupyter-widgets/controls",
          "model_module_version": "1.5.0",
          "model_name": "HTMLModel",
          "state": {
            "_dom_classes": [],
            "_model_module": "@jupyter-widgets/controls",
            "_model_module_version": "1.5.0",
            "_model_name": "HTMLModel",
            "_view_count": null,
            "_view_module": "@jupyter-widgets/controls",
            "_view_module_version": "1.5.0",
            "_view_name": "HTMLView",
            "description": "",
            "description_tooltip": null,
            "layout": "IPY_MODEL_d62db12f2b444c22bd5788149925f4be",
            "placeholder": "​",
            "style": "IPY_MODEL_ed1e3ed8f74c471b8e4a63fe7d2ed2f4",
            "value": "config.json: 100%"
          }
        },
        "7a5027f343964c80922d768a9e33b4b4": {
          "model_module": "@jupyter-widgets/controls",
          "model_module_version": "1.5.0",
          "model_name": "HBoxModel",
          "state": {
            "_dom_classes": [],
            "_model_module": "@jupyter-widgets/controls",
            "_model_module_version": "1.5.0",
            "_model_name": "HBoxModel",
            "_view_count": null,
            "_view_module": "@jupyter-widgets/controls",
            "_view_module_version": "1.5.0",
            "_view_name": "HBoxView",
            "box_style": "",
            "children": [
              "IPY_MODEL_a3b08ba27bc846abb0c83065c8fa9538",
              "IPY_MODEL_4c70058db96e4062bc35fd3f3ef530fd",
              "IPY_MODEL_c93f73e4bd644471b5080f79bb0be8c3"
            ],
            "layout": "IPY_MODEL_5528112196c34636aad62b666fa3ee00"
          }
        },
        "855e14068b2843b2b2510565150d5e56": {
          "model_module": "@jupyter-widgets/controls",
          "model_module_version": "1.5.0",
          "model_name": "ProgressStyleModel",
          "state": {
            "_model_module": "@jupyter-widgets/controls",
            "_model_module_version": "1.5.0",
            "_model_name": "ProgressStyleModel",
            "_view_count": null,
            "_view_module": "@jupyter-widgets/base",
            "_view_module_version": "1.2.0",
            "_view_name": "StyleView",
            "bar_color": null,
            "description_width": ""
          }
        },
        "883d427ab2094285aa141b7dec183189": {
          "model_module": "@jupyter-widgets/controls",
          "model_module_version": "1.5.0",
          "model_name": "FloatProgressModel",
          "state": {
            "_dom_classes": [],
            "_model_module": "@jupyter-widgets/controls",
            "_model_module_version": "1.5.0",
            "_model_name": "FloatProgressModel",
            "_view_count": null,
            "_view_module": "@jupyter-widgets/controls",
            "_view_module_version": "1.5.0",
            "_view_name": "ProgressView",
            "bar_style": "success",
            "description": "",
            "description_tooltip": null,
            "layout": "IPY_MODEL_61d6295708da499ea991b816460a5e8e",
            "max": 439101405,
            "min": 0,
            "orientation": "horizontal",
            "style": "IPY_MODEL_f8be49ec413e4a2285786732391ec52c",
            "value": 439101405
          }
        },
        "a3b08ba27bc846abb0c83065c8fa9538": {
          "model_module": "@jupyter-widgets/controls",
          "model_module_version": "1.5.0",
          "model_name": "HTMLModel",
          "state": {
            "_dom_classes": [],
            "_model_module": "@jupyter-widgets/controls",
            "_model_module_version": "1.5.0",
            "_model_name": "HTMLModel",
            "_view_count": null,
            "_view_module": "@jupyter-widgets/controls",
            "_view_module_version": "1.5.0",
            "_view_name": "HTMLView",
            "description": "",
            "description_tooltip": null,
            "layout": "IPY_MODEL_16c4dd7597af4c43bb906eb16318f815",
            "placeholder": "​",
            "style": "IPY_MODEL_f6cb533e72ff4edf8b3c0fcee3ee3dce",
            "value": "vocab.txt: 100%"
          }
        },
        "ac13ae2c46564b259e42447b860fadd3": {
          "model_module": "@jupyter-widgets/controls",
          "model_module_version": "1.5.0",
          "model_name": "HTMLModel",
          "state": {
            "_dom_classes": [],
            "_model_module": "@jupyter-widgets/controls",
            "_model_module_version": "1.5.0",
            "_model_name": "HTMLModel",
            "_view_count": null,
            "_view_module": "@jupyter-widgets/controls",
            "_view_module_version": "1.5.0",
            "_view_name": "HTMLView",
            "description": "",
            "description_tooltip": null,
            "layout": "IPY_MODEL_264222ee7b584178a5ff01a13ed5eb6f",
            "placeholder": "​",
            "style": "IPY_MODEL_48f8e8b6b9634313981ee024051792dc",
            "value": "pytorch_model.bin: 100%"
          }
        },
        "b1b6c1ee8bf04b31b540a143ef3735cd": {
          "model_module": "@jupyter-widgets/base",
          "model_module_version": "1.2.0",
          "model_name": "LayoutModel",
          "state": {
            "_model_module": "@jupyter-widgets/base",
            "_model_module_version": "1.2.0",
            "_model_name": "LayoutModel",
            "_view_count": null,
            "_view_module": "@jupyter-widgets/base",
            "_view_module_version": "1.2.0",
            "_view_name": "LayoutView",
            "align_content": null,
            "align_items": null,
            "align_self": null,
            "border": null,
            "bottom": null,
            "display": null,
            "flex": null,
            "flex_flow": null,
            "grid_area": null,
            "grid_auto_columns": null,
            "grid_auto_flow": null,
            "grid_auto_rows": null,
            "grid_column": null,
            "grid_gap": null,
            "grid_row": null,
            "grid_template_areas": null,
            "grid_template_columns": null,
            "grid_template_rows": null,
            "height": null,
            "justify_content": null,
            "justify_items": null,
            "left": null,
            "margin": null,
            "max_height": null,
            "max_width": null,
            "min_height": null,
            "min_width": null,
            "object_fit": null,
            "object_position": null,
            "order": null,
            "overflow": null,
            "overflow_x": null,
            "overflow_y": null,
            "padding": null,
            "right": null,
            "top": null,
            "visibility": null,
            "width": null
          }
        },
        "b9db39dafaa047c99767929ff53f0797": {
          "model_module": "@jupyter-widgets/base",
          "model_module_version": "1.2.0",
          "model_name": "LayoutModel",
          "state": {
            "_model_module": "@jupyter-widgets/base",
            "_model_module_version": "1.2.0",
            "_model_name": "LayoutModel",
            "_view_count": null,
            "_view_module": "@jupyter-widgets/base",
            "_view_module_version": "1.2.0",
            "_view_name": "LayoutView",
            "align_content": null,
            "align_items": null,
            "align_self": null,
            "border": null,
            "bottom": null,
            "display": null,
            "flex": null,
            "flex_flow": null,
            "grid_area": null,
            "grid_auto_columns": null,
            "grid_auto_flow": null,
            "grid_auto_rows": null,
            "grid_column": null,
            "grid_gap": null,
            "grid_row": null,
            "grid_template_areas": null,
            "grid_template_columns": null,
            "grid_template_rows": null,
            "height": null,
            "justify_content": null,
            "justify_items": null,
            "left": null,
            "margin": null,
            "max_height": null,
            "max_width": null,
            "min_height": null,
            "min_width": null,
            "object_fit": null,
            "object_position": null,
            "order": null,
            "overflow": null,
            "overflow_x": null,
            "overflow_y": null,
            "padding": null,
            "right": null,
            "top": null,
            "visibility": null,
            "width": null
          }
        },
        "c93f73e4bd644471b5080f79bb0be8c3": {
          "model_module": "@jupyter-widgets/controls",
          "model_module_version": "1.5.0",
          "model_name": "HTMLModel",
          "state": {
            "_dom_classes": [],
            "_model_module": "@jupyter-widgets/controls",
            "_model_module_version": "1.5.0",
            "_model_name": "HTMLModel",
            "_view_count": null,
            "_view_module": "@jupyter-widgets/controls",
            "_view_module_version": "1.5.0",
            "_view_name": "HTMLView",
            "description": "",
            "description_tooltip": null,
            "layout": "IPY_MODEL_2ce964f60569443fad2d6b9bcd1e12e6",
            "placeholder": "​",
            "style": "IPY_MODEL_e3875b19e0ec42269df84a58f0358c5c",
            "value": " 226k/226k [00:00&lt;00:00, 4.68MB/s]"
          }
        },
        "cdf02d8cecd042789bf3b7e48acaa1dd": {
          "model_module": "@jupyter-widgets/controls",
          "model_module_version": "1.5.0",
          "model_name": "HTMLModel",
          "state": {
            "_dom_classes": [],
            "_model_module": "@jupyter-widgets/controls",
            "_model_module_version": "1.5.0",
            "_model_name": "HTMLModel",
            "_view_count": null,
            "_view_module": "@jupyter-widgets/controls",
            "_view_module_version": "1.5.0",
            "_view_name": "HTMLView",
            "description": "",
            "description_tooltip": null,
            "layout": "IPY_MODEL_2926f5309cd04d18a5dacc14bd0c615b",
            "placeholder": "​",
            "style": "IPY_MODEL_199c6bd47f4c471c8a667faef2332296",
            "value": " 533/533 [00:00&lt;00:00, 9.96kB/s]"
          }
        },
        "cea6e5ae51aa4e22bc3e46396f9452e5": {
          "model_module": "@jupyter-widgets/controls",
          "model_module_version": "1.5.0",
          "model_name": "DescriptionStyleModel",
          "state": {
            "_model_module": "@jupyter-widgets/controls",
            "_model_module_version": "1.5.0",
            "_model_name": "DescriptionStyleModel",
            "_view_count": null,
            "_view_module": "@jupyter-widgets/base",
            "_view_module_version": "1.2.0",
            "_view_name": "StyleView",
            "description_width": ""
          }
        },
        "d62db12f2b444c22bd5788149925f4be": {
          "model_module": "@jupyter-widgets/base",
          "model_module_version": "1.2.0",
          "model_name": "LayoutModel",
          "state": {
            "_model_module": "@jupyter-widgets/base",
            "_model_module_version": "1.2.0",
            "_model_name": "LayoutModel",
            "_view_count": null,
            "_view_module": "@jupyter-widgets/base",
            "_view_module_version": "1.2.0",
            "_view_name": "LayoutView",
            "align_content": null,
            "align_items": null,
            "align_self": null,
            "border": null,
            "bottom": null,
            "display": null,
            "flex": null,
            "flex_flow": null,
            "grid_area": null,
            "grid_auto_columns": null,
            "grid_auto_flow": null,
            "grid_auto_rows": null,
            "grid_column": null,
            "grid_gap": null,
            "grid_row": null,
            "grid_template_areas": null,
            "grid_template_columns": null,
            "grid_template_rows": null,
            "height": null,
            "justify_content": null,
            "justify_items": null,
            "left": null,
            "margin": null,
            "max_height": null,
            "max_width": null,
            "min_height": null,
            "min_width": null,
            "object_fit": null,
            "object_position": null,
            "order": null,
            "overflow": null,
            "overflow_x": null,
            "overflow_y": null,
            "padding": null,
            "right": null,
            "top": null,
            "visibility": null,
            "width": null
          }
        },
        "e31581eecb8e41bc8a5443ba1127df9e": {
          "model_module": "@jupyter-widgets/controls",
          "model_module_version": "1.5.0",
          "model_name": "HBoxModel",
          "state": {
            "_dom_classes": [],
            "_model_module": "@jupyter-widgets/controls",
            "_model_module_version": "1.5.0",
            "_model_name": "HBoxModel",
            "_view_count": null,
            "_view_module": "@jupyter-widgets/controls",
            "_view_module_version": "1.5.0",
            "_view_name": "HBoxView",
            "box_style": "",
            "children": [
              "IPY_MODEL_748d80d517e2484696c4ce6a9266c3a3",
              "IPY_MODEL_4e3e384330cc41219e50dcb2119058b3",
              "IPY_MODEL_cdf02d8cecd042789bf3b7e48acaa1dd"
            ],
            "layout": "IPY_MODEL_b9db39dafaa047c99767929ff53f0797"
          }
        },
        "e3875b19e0ec42269df84a58f0358c5c": {
          "model_module": "@jupyter-widgets/controls",
          "model_module_version": "1.5.0",
          "model_name": "DescriptionStyleModel",
          "state": {
            "_model_module": "@jupyter-widgets/controls",
            "_model_module_version": "1.5.0",
            "_model_name": "DescriptionStyleModel",
            "_view_count": null,
            "_view_module": "@jupyter-widgets/base",
            "_view_module_version": "1.2.0",
            "_view_name": "StyleView",
            "description_width": ""
          }
        },
        "ed1e3ed8f74c471b8e4a63fe7d2ed2f4": {
          "model_module": "@jupyter-widgets/controls",
          "model_module_version": "1.5.0",
          "model_name": "DescriptionStyleModel",
          "state": {
            "_model_module": "@jupyter-widgets/controls",
            "_model_module_version": "1.5.0",
            "_model_name": "DescriptionStyleModel",
            "_view_count": null,
            "_view_module": "@jupyter-widgets/base",
            "_view_module_version": "1.2.0",
            "_view_name": "StyleView",
            "description_width": ""
          }
        },
        "f6cb533e72ff4edf8b3c0fcee3ee3dce": {
          "model_module": "@jupyter-widgets/controls",
          "model_module_version": "1.5.0",
          "model_name": "DescriptionStyleModel",
          "state": {
            "_model_module": "@jupyter-widgets/controls",
            "_model_module_version": "1.5.0",
            "_model_name": "DescriptionStyleModel",
            "_view_count": null,
            "_view_module": "@jupyter-widgets/base",
            "_view_module_version": "1.2.0",
            "_view_name": "StyleView",
            "description_width": ""
          }
        },
        "f8be49ec413e4a2285786732391ec52c": {
          "model_module": "@jupyter-widgets/controls",
          "model_module_version": "1.5.0",
          "model_name": "ProgressStyleModel",
          "state": {
            "_model_module": "@jupyter-widgets/controls",
            "_model_module_version": "1.5.0",
            "_model_name": "ProgressStyleModel",
            "_view_count": null,
            "_view_module": "@jupyter-widgets/base",
            "_view_module_version": "1.2.0",
            "_view_name": "StyleView",
            "bar_color": null,
            "description_width": ""
          }
        }
      }
    }
  },
  "nbformat": 4,
  "nbformat_minor": 0
}
